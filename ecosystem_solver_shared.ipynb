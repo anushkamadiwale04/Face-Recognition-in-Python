{
  "nbformat": 4,
  "nbformat_minor": 0,
  "metadata": {
    "colab": {
      "provenance": [],
      "include_colab_link": true
    },
    "kernelspec": {
      "name": "python3",
      "display_name": "Python 3"
    },
    "language_info": {
      "name": "python"
    },
    "widgets": {
      "application/vnd.jupyter.widget-state+json": {
        "ebd2273d58ea4f41acb02943e31f39cf": {
          "model_module": "@jupyter-widgets/controls",
          "model_name": "ButtonModel",
          "model_module_version": "1.5.0",
          "state": {
            "_dom_classes": [],
            "_model_module": "@jupyter-widgets/controls",
            "_model_module_version": "1.5.0",
            "_model_name": "ButtonModel",
            "_view_count": null,
            "_view_module": "@jupyter-widgets/controls",
            "_view_module_version": "1.5.0",
            "_view_name": "ButtonView",
            "button_style": "",
            "description": "Use demo data",
            "disabled": false,
            "icon": "clone",
            "layout": "IPY_MODEL_5e19c6b50257471f876198b17f0964a4",
            "style": "IPY_MODEL_b334a487824a4e45a10e83692dda5ce5",
            "tooltip": "Use demo data"
          }
        },
        "5e19c6b50257471f876198b17f0964a4": {
          "model_module": "@jupyter-widgets/base",
          "model_name": "LayoutModel",
          "model_module_version": "1.2.0",
          "state": {
            "_model_module": "@jupyter-widgets/base",
            "_model_module_version": "1.2.0",
            "_model_name": "LayoutModel",
            "_view_count": null,
            "_view_module": "@jupyter-widgets/base",
            "_view_module_version": "1.2.0",
            "_view_name": "LayoutView",
            "align_content": null,
            "align_items": null,
            "align_self": null,
            "border": null,
            "bottom": null,
            "display": null,
            "flex": null,
            "flex_flow": null,
            "grid_area": null,
            "grid_auto_columns": null,
            "grid_auto_flow": null,
            "grid_auto_rows": null,
            "grid_column": null,
            "grid_gap": null,
            "grid_row": null,
            "grid_template_areas": null,
            "grid_template_columns": null,
            "grid_template_rows": null,
            "height": null,
            "justify_content": null,
            "justify_items": null,
            "left": null,
            "margin": null,
            "max_height": null,
            "max_width": null,
            "min_height": null,
            "min_width": null,
            "object_fit": null,
            "object_position": null,
            "order": null,
            "overflow": null,
            "overflow_x": null,
            "overflow_y": null,
            "padding": null,
            "right": null,
            "top": null,
            "visibility": null,
            "width": null
          }
        },
        "b334a487824a4e45a10e83692dda5ce5": {
          "model_module": "@jupyter-widgets/controls",
          "model_name": "ButtonStyleModel",
          "model_module_version": "1.5.0",
          "state": {
            "_model_module": "@jupyter-widgets/controls",
            "_model_module_version": "1.5.0",
            "_model_name": "ButtonStyleModel",
            "_view_count": null,
            "_view_module": "@jupyter-widgets/base",
            "_view_module_version": "1.2.0",
            "_view_name": "StyleView",
            "button_color": null,
            "font_weight": ""
          }
        },
        "57a5dd8ea0bf4568ac55dca4a53ffd8c": {
          "model_module": "@jupyter-widgets/controls",
          "model_name": "LabelModel",
          "model_module_version": "1.5.0",
          "state": {
            "_dom_classes": [],
            "_model_module": "@jupyter-widgets/controls",
            "_model_module_version": "1.5.0",
            "_model_name": "LabelModel",
            "_view_count": null,
            "_view_module": "@jupyter-widgets/controls",
            "_view_module_version": "1.5.0",
            "_view_name": "LabelView",
            "description": "",
            "description_tooltip": null,
            "layout": "IPY_MODEL_71137e3c138b45ac9263c07b03da9350",
            "placeholder": "​",
            "style": "IPY_MODEL_9a743e6b94304c8b8d0aaf8e1cad6a57",
            "value": "Which ecosystem to solve:"
          }
        },
        "71137e3c138b45ac9263c07b03da9350": {
          "model_module": "@jupyter-widgets/base",
          "model_name": "LayoutModel",
          "model_module_version": "1.2.0",
          "state": {
            "_model_module": "@jupyter-widgets/base",
            "_model_module_version": "1.2.0",
            "_model_name": "LayoutModel",
            "_view_count": null,
            "_view_module": "@jupyter-widgets/base",
            "_view_module_version": "1.2.0",
            "_view_name": "LayoutView",
            "align_content": null,
            "align_items": null,
            "align_self": null,
            "border": null,
            "bottom": null,
            "display": null,
            "flex": null,
            "flex_flow": null,
            "grid_area": null,
            "grid_auto_columns": null,
            "grid_auto_flow": null,
            "grid_auto_rows": null,
            "grid_column": null,
            "grid_gap": null,
            "grid_row": null,
            "grid_template_areas": null,
            "grid_template_columns": null,
            "grid_template_rows": null,
            "height": null,
            "justify_content": null,
            "justify_items": null,
            "left": null,
            "margin": null,
            "max_height": null,
            "max_width": null,
            "min_height": null,
            "min_width": null,
            "object_fit": null,
            "object_position": null,
            "order": null,
            "overflow": null,
            "overflow_x": null,
            "overflow_y": null,
            "padding": null,
            "right": null,
            "top": null,
            "visibility": null,
            "width": null
          }
        },
        "9a743e6b94304c8b8d0aaf8e1cad6a57": {
          "model_module": "@jupyter-widgets/controls",
          "model_name": "DescriptionStyleModel",
          "model_module_version": "1.5.0",
          "state": {
            "_model_module": "@jupyter-widgets/controls",
            "_model_module_version": "1.5.0",
            "_model_name": "DescriptionStyleModel",
            "_view_count": null,
            "_view_module": "@jupyter-widgets/base",
            "_view_module_version": "1.2.0",
            "_view_name": "StyleView",
            "description_width": ""
          }
        },
        "5b99560e730849feab9dea9e0b4699a6": {
          "model_module": "@jupyter-widgets/controls",
          "model_name": "RadioButtonsModel",
          "model_module_version": "1.5.0",
          "state": {
            "_dom_classes": [],
            "_model_module": "@jupyter-widgets/controls",
            "_model_module_version": "1.5.0",
            "_model_name": "RadioButtonsModel",
            "_options_labels": [
              "ocean",
              "mountain"
            ],
            "_view_count": null,
            "_view_module": "@jupyter-widgets/controls",
            "_view_module_version": "1.5.0",
            "_view_name": "RadioButtonsView",
            "description": "",
            "description_tooltip": null,
            "disabled": false,
            "index": 0,
            "layout": "IPY_MODEL_28d387bdc7ee4197916523e23f8565b7",
            "style": "IPY_MODEL_cfdd2896b9ce41ada8abf7434d6574e3"
          }
        },
        "28d387bdc7ee4197916523e23f8565b7": {
          "model_module": "@jupyter-widgets/base",
          "model_name": "LayoutModel",
          "model_module_version": "1.2.0",
          "state": {
            "_model_module": "@jupyter-widgets/base",
            "_model_module_version": "1.2.0",
            "_model_name": "LayoutModel",
            "_view_count": null,
            "_view_module": "@jupyter-widgets/base",
            "_view_module_version": "1.2.0",
            "_view_name": "LayoutView",
            "align_content": null,
            "align_items": null,
            "align_self": null,
            "border": null,
            "bottom": null,
            "display": null,
            "flex": null,
            "flex_flow": null,
            "grid_area": null,
            "grid_auto_columns": null,
            "grid_auto_flow": null,
            "grid_auto_rows": null,
            "grid_column": null,
            "grid_gap": null,
            "grid_row": null,
            "grid_template_areas": null,
            "grid_template_columns": null,
            "grid_template_rows": null,
            "height": null,
            "justify_content": null,
            "justify_items": null,
            "left": null,
            "margin": null,
            "max_height": null,
            "max_width": null,
            "min_height": null,
            "min_width": null,
            "object_fit": null,
            "object_position": null,
            "order": null,
            "overflow": null,
            "overflow_x": null,
            "overflow_y": null,
            "padding": null,
            "right": null,
            "top": null,
            "visibility": null,
            "width": null
          }
        },
        "cfdd2896b9ce41ada8abf7434d6574e3": {
          "model_module": "@jupyter-widgets/controls",
          "model_name": "DescriptionStyleModel",
          "model_module_version": "1.5.0",
          "state": {
            "_model_module": "@jupyter-widgets/controls",
            "_model_module_version": "1.5.0",
            "_model_name": "DescriptionStyleModel",
            "_view_count": null,
            "_view_module": "@jupyter-widgets/base",
            "_view_module_version": "1.2.0",
            "_view_name": "StyleView",
            "description_width": ""
          }
        },
        "fee0e710bb3943ecac59071921742c6a": {
          "model_module": "@jupyter-widgets/controls",
          "model_name": "LabelModel",
          "model_module_version": "1.5.0",
          "state": {
            "_dom_classes": [],
            "_model_module": "@jupyter-widgets/controls",
            "_model_module_version": "1.5.0",
            "_model_name": "LabelModel",
            "_view_count": null,
            "_view_module": "@jupyter-widgets/controls",
            "_view_module_version": "1.5.0",
            "_view_name": "LabelView",
            "description": "",
            "description_tooltip": null,
            "layout": "IPY_MODEL_cb9a53f57fc243b494b8ba75b56c2e3c",
            "placeholder": "​",
            "style": "IPY_MODEL_11e88584cbdf40b3a913ba526c405a60",
            "value": "The names of the foodsources (separated by semikolon):"
          }
        },
        "cb9a53f57fc243b494b8ba75b56c2e3c": {
          "model_module": "@jupyter-widgets/base",
          "model_name": "LayoutModel",
          "model_module_version": "1.2.0",
          "state": {
            "_model_module": "@jupyter-widgets/base",
            "_model_module_version": "1.2.0",
            "_model_name": "LayoutModel",
            "_view_count": null,
            "_view_module": "@jupyter-widgets/base",
            "_view_module_version": "1.2.0",
            "_view_name": "LayoutView",
            "align_content": null,
            "align_items": null,
            "align_self": null,
            "border": null,
            "bottom": null,
            "display": null,
            "flex": null,
            "flex_flow": null,
            "grid_area": null,
            "grid_auto_columns": null,
            "grid_auto_flow": null,
            "grid_auto_rows": null,
            "grid_column": null,
            "grid_gap": null,
            "grid_row": null,
            "grid_template_areas": null,
            "grid_template_columns": null,
            "grid_template_rows": null,
            "height": null,
            "justify_content": null,
            "justify_items": null,
            "left": null,
            "margin": null,
            "max_height": null,
            "max_width": null,
            "min_height": null,
            "min_width": null,
            "object_fit": null,
            "object_position": null,
            "order": null,
            "overflow": null,
            "overflow_x": null,
            "overflow_y": null,
            "padding": null,
            "right": null,
            "top": null,
            "visibility": null,
            "width": null
          }
        },
        "11e88584cbdf40b3a913ba526c405a60": {
          "model_module": "@jupyter-widgets/controls",
          "model_name": "DescriptionStyleModel",
          "model_module_version": "1.5.0",
          "state": {
            "_model_module": "@jupyter-widgets/controls",
            "_model_module_version": "1.5.0",
            "_model_name": "DescriptionStyleModel",
            "_view_count": null,
            "_view_module": "@jupyter-widgets/base",
            "_view_module_version": "1.2.0",
            "_view_name": "StyleView",
            "description_width": ""
          }
        },
        "3bf6a832610c49649937197d4ae7793a": {
          "model_module": "@jupyter-widgets/controls",
          "model_name": "TextareaModel",
          "model_module_version": "1.5.0",
          "state": {
            "_dom_classes": [],
            "_model_module": "@jupyter-widgets/controls",
            "_model_module_version": "1.5.0",
            "_model_name": "TextareaModel",
            "_view_count": null,
            "_view_module": "@jupyter-widgets/controls",
            "_view_module_version": "1.5.0",
            "_view_name": "TextareaView",
            "continuous_update": true,
            "description": "",
            "description_tooltip": null,
            "disabled": false,
            "layout": "IPY_MODEL_3d2cd0b92b3f492ba285209f87735ad6",
            "placeholder": "List the foodsource names separated by semikolon",
            "rows": null,
            "style": "IPY_MODEL_115f2bb82ae34bd19d5336e25f81350e",
            "value": "Acro Coral;Brain Coral;Doughnut Coral;Giant Kelp;Hammer Coral;Red Coral;Red Seaweed;Seaweed;Stylophora"
          }
        },
        "3d2cd0b92b3f492ba285209f87735ad6": {
          "model_module": "@jupyter-widgets/base",
          "model_name": "LayoutModel",
          "model_module_version": "1.2.0",
          "state": {
            "_model_module": "@jupyter-widgets/base",
            "_model_module_version": "1.2.0",
            "_model_name": "LayoutModel",
            "_view_count": null,
            "_view_module": "@jupyter-widgets/base",
            "_view_module_version": "1.2.0",
            "_view_name": "LayoutView",
            "align_content": null,
            "align_items": null,
            "align_self": null,
            "border": null,
            "bottom": null,
            "display": null,
            "flex": null,
            "flex_flow": null,
            "grid_area": null,
            "grid_auto_columns": null,
            "grid_auto_flow": null,
            "grid_auto_rows": null,
            "grid_column": null,
            "grid_gap": null,
            "grid_row": null,
            "grid_template_areas": null,
            "grid_template_columns": null,
            "grid_template_rows": null,
            "height": "80px",
            "justify_content": null,
            "justify_items": null,
            "left": null,
            "margin": null,
            "max_height": null,
            "max_width": null,
            "min_height": null,
            "min_width": null,
            "object_fit": null,
            "object_position": null,
            "order": null,
            "overflow": null,
            "overflow_x": null,
            "overflow_y": null,
            "padding": null,
            "right": null,
            "top": null,
            "visibility": null,
            "width": "500px"
          }
        },
        "115f2bb82ae34bd19d5336e25f81350e": {
          "model_module": "@jupyter-widgets/controls",
          "model_name": "DescriptionStyleModel",
          "model_module_version": "1.5.0",
          "state": {
            "_model_module": "@jupyter-widgets/controls",
            "_model_module_version": "1.5.0",
            "_model_name": "DescriptionStyleModel",
            "_view_count": null,
            "_view_module": "@jupyter-widgets/base",
            "_view_module_version": "1.2.0",
            "_view_name": "StyleView",
            "description_width": ""
          }
        },
        "7f0cce70e7314dc6a79909cf9746808d": {
          "model_module": "@jupyter-widgets/controls",
          "model_name": "ButtonModel",
          "model_module_version": "1.5.0",
          "state": {
            "_dom_classes": [],
            "_model_module": "@jupyter-widgets/controls",
            "_model_module_version": "1.5.0",
            "_model_name": "ButtonModel",
            "_view_count": null,
            "_view_module": "@jupyter-widgets/controls",
            "_view_module_version": "1.5.0",
            "_view_name": "ButtonView",
            "button_style": "success",
            "description": "Food sources listed successfully. Run next Cell now.",
            "disabled": false,
            "icon": "check",
            "layout": "IPY_MODEL_e8fb9bed28064079b16a374ec224281f",
            "style": "IPY_MODEL_bfc3f981236846f4a2b4a2dca11ce73c",
            "tooltip": ""
          }
        },
        "e8fb9bed28064079b16a374ec224281f": {
          "model_module": "@jupyter-widgets/base",
          "model_name": "LayoutModel",
          "model_module_version": "1.2.0",
          "state": {
            "_model_module": "@jupyter-widgets/base",
            "_model_module_version": "1.2.0",
            "_model_name": "LayoutModel",
            "_view_count": null,
            "_view_module": "@jupyter-widgets/base",
            "_view_module_version": "1.2.0",
            "_view_name": "LayoutView",
            "align_content": null,
            "align_items": null,
            "align_self": null,
            "border": null,
            "bottom": null,
            "display": null,
            "flex": null,
            "flex_flow": null,
            "grid_area": null,
            "grid_auto_columns": null,
            "grid_auto_flow": null,
            "grid_auto_rows": null,
            "grid_column": null,
            "grid_gap": null,
            "grid_row": null,
            "grid_template_areas": null,
            "grid_template_columns": null,
            "grid_template_rows": null,
            "height": null,
            "justify_content": null,
            "justify_items": null,
            "left": null,
            "margin": null,
            "max_height": null,
            "max_width": null,
            "min_height": null,
            "min_width": null,
            "object_fit": null,
            "object_position": null,
            "order": null,
            "overflow": null,
            "overflow_x": null,
            "overflow_y": null,
            "padding": null,
            "right": null,
            "top": null,
            "visibility": null,
            "width": "500px"
          }
        },
        "bfc3f981236846f4a2b4a2dca11ce73c": {
          "model_module": "@jupyter-widgets/controls",
          "model_name": "ButtonStyleModel",
          "model_module_version": "1.5.0",
          "state": {
            "_model_module": "@jupyter-widgets/controls",
            "_model_module_version": "1.5.0",
            "_model_name": "ButtonStyleModel",
            "_view_count": null,
            "_view_module": "@jupyter-widgets/base",
            "_view_module_version": "1.2.0",
            "_view_name": "StyleView",
            "button_color": null,
            "font_weight": ""
          }
        },
        "bf50f728e31d47c1b6f816db047ab8c2": {
          "model_module": "@jupyter-widgets/controls",
          "model_name": "ButtonModel",
          "model_module_version": "1.5.0",
          "state": {
            "_dom_classes": [],
            "_model_module": "@jupyter-widgets/controls",
            "_model_module_version": "1.5.0",
            "_model_name": "ButtonModel",
            "_view_count": null,
            "_view_module": "@jupyter-widgets/controls",
            "_view_module_version": "1.5.0",
            "_view_name": "ButtonView",
            "button_style": "",
            "description": "Use demo data",
            "disabled": false,
            "icon": "clone",
            "layout": "IPY_MODEL_5ee0afa144af4d58a417944dbcab9c36",
            "style": "IPY_MODEL_0bed0c948fcc48ab983a1a649a761b99",
            "tooltip": "Use demo data"
          }
        },
        "5ee0afa144af4d58a417944dbcab9c36": {
          "model_module": "@jupyter-widgets/base",
          "model_name": "LayoutModel",
          "model_module_version": "1.2.0",
          "state": {
            "_model_module": "@jupyter-widgets/base",
            "_model_module_version": "1.2.0",
            "_model_name": "LayoutModel",
            "_view_count": null,
            "_view_module": "@jupyter-widgets/base",
            "_view_module_version": "1.2.0",
            "_view_name": "LayoutView",
            "align_content": null,
            "align_items": null,
            "align_self": null,
            "border": null,
            "bottom": null,
            "display": null,
            "flex": null,
            "flex_flow": null,
            "grid_area": null,
            "grid_auto_columns": null,
            "grid_auto_flow": null,
            "grid_auto_rows": null,
            "grid_column": null,
            "grid_gap": null,
            "grid_row": null,
            "grid_template_areas": null,
            "grid_template_columns": null,
            "grid_template_rows": null,
            "height": null,
            "justify_content": null,
            "justify_items": null,
            "left": null,
            "margin": null,
            "max_height": null,
            "max_width": null,
            "min_height": null,
            "min_width": null,
            "object_fit": null,
            "object_position": null,
            "order": null,
            "overflow": null,
            "overflow_x": null,
            "overflow_y": null,
            "padding": null,
            "right": null,
            "top": null,
            "visibility": null,
            "width": null
          }
        },
        "0bed0c948fcc48ab983a1a649a761b99": {
          "model_module": "@jupyter-widgets/controls",
          "model_name": "ButtonStyleModel",
          "model_module_version": "1.5.0",
          "state": {
            "_model_module": "@jupyter-widgets/controls",
            "_model_module_version": "1.5.0",
            "_model_name": "ButtonStyleModel",
            "_view_count": null,
            "_view_module": "@jupyter-widgets/base",
            "_view_module_version": "1.2.0",
            "_view_name": "StyleView",
            "button_color": null,
            "font_weight": ""
          }
        },
        "98bf2486d0714b00959b89f071e306cd": {
          "model_module": "@jupyter-widgets/controls",
          "model_name": "LabelModel",
          "model_module_version": "1.5.0",
          "state": {
            "_dom_classes": [],
            "_model_module": "@jupyter-widgets/controls",
            "_model_module_version": "1.5.0",
            "_model_name": "LabelModel",
            "_view_count": null,
            "_view_module": "@jupyter-widgets/controls",
            "_view_module_version": "1.5.0",
            "_view_name": "LabelView",
            "description": "",
            "description_tooltip": null,
            "layout": "IPY_MODEL_8ff43fc94dbc4f2c96b9c9a4e54f4c63",
            "placeholder": "​",
            "style": "IPY_MODEL_24764057cc684560a10a21bc8bc52db0",
            "value": "Fill in the missing parameters of the food sources:"
          }
        },
        "8ff43fc94dbc4f2c96b9c9a4e54f4c63": {
          "model_module": "@jupyter-widgets/base",
          "model_name": "LayoutModel",
          "model_module_version": "1.2.0",
          "state": {
            "_model_module": "@jupyter-widgets/base",
            "_model_module_version": "1.2.0",
            "_model_name": "LayoutModel",
            "_view_count": null,
            "_view_module": "@jupyter-widgets/base",
            "_view_module_version": "1.2.0",
            "_view_name": "LayoutView",
            "align_content": null,
            "align_items": null,
            "align_self": null,
            "border": null,
            "bottom": null,
            "display": null,
            "flex": null,
            "flex_flow": null,
            "grid_area": null,
            "grid_auto_columns": null,
            "grid_auto_flow": null,
            "grid_auto_rows": null,
            "grid_column": null,
            "grid_gap": null,
            "grid_row": null,
            "grid_template_areas": null,
            "grid_template_columns": null,
            "grid_template_rows": null,
            "height": null,
            "justify_content": null,
            "justify_items": null,
            "left": null,
            "margin": null,
            "max_height": null,
            "max_width": null,
            "min_height": null,
            "min_width": null,
            "object_fit": null,
            "object_position": null,
            "order": null,
            "overflow": null,
            "overflow_x": null,
            "overflow_y": null,
            "padding": null,
            "right": null,
            "top": null,
            "visibility": null,
            "width": null
          }
        },
        "24764057cc684560a10a21bc8bc52db0": {
          "model_module": "@jupyter-widgets/controls",
          "model_name": "DescriptionStyleModel",
          "model_module_version": "1.5.0",
          "state": {
            "_model_module": "@jupyter-widgets/controls",
            "_model_module_version": "1.5.0",
            "_model_name": "DescriptionStyleModel",
            "_view_count": null,
            "_view_module": "@jupyter-widgets/base",
            "_view_module_version": "1.2.0",
            "_view_name": "StyleView",
            "description_width": ""
          }
        },
        "1fcc1d7e666b4ae3927ee2ade246e72e": {
          "model_module": "ipydatagrid",
          "model_name": "DataGridModel",
          "model_module_version": "^1.1.16",
          "state": {
            "_data": {
              "data": [
                {
                  "key": 0,
                  "food_source": "Acro Coral",
                  "min_depth": 61,
                  "max_depth": 90,
                  "min_temp": 26.7,
                  "max_temp": 28.2,
                  "cal_provided": 4400,
                  "is_poisonous": 0,
                  "ipydguuid": 0
                },
                {
                  "key": 1,
                  "food_source": "Brain Coral",
                  "min_depth": 31,
                  "max_depth": 60,
                  "min_temp": 28.3,
                  "max_temp": 30,
                  "cal_provided": 4600,
                  "is_poisonous": 0,
                  "ipydguuid": 1
                },
                {
                  "key": 2,
                  "food_source": "Doughnut Coral",
                  "min_depth": 31,
                  "max_depth": 60,
                  "min_temp": 28.3,
                  "max_temp": 30,
                  "cal_provided": 4700,
                  "is_poisonous": 0,
                  "ipydguuid": 2
                },
                {
                  "key": 3,
                  "food_source": "Giant Kelp",
                  "min_depth": 0,
                  "max_depth": 30,
                  "min_temp": 30.1,
                  "max_temp": 31.5,
                  "cal_provided": 4150,
                  "is_poisonous": 0,
                  "ipydguuid": 3
                },
                {
                  "key": 4,
                  "food_source": "Hammer Coral",
                  "min_depth": 61,
                  "max_depth": 90,
                  "min_temp": 26.7,
                  "max_temp": 28.2,
                  "cal_provided": 4300,
                  "is_poisonous": 0,
                  "ipydguuid": 4
                },
                {
                  "key": 5,
                  "food_source": "Red Coral",
                  "min_depth": 31,
                  "max_depth": 60,
                  "min_temp": 28.3,
                  "max_temp": 30,
                  "cal_provided": 5050,
                  "is_poisonous": 0,
                  "ipydguuid": 5
                },
                {
                  "key": 6,
                  "food_source": "Red Seaweed",
                  "min_depth": 0,
                  "max_depth": 30,
                  "min_temp": 30.1,
                  "max_temp": 31.5,
                  "cal_provided": 5100,
                  "is_poisonous": 0,
                  "ipydguuid": 6
                },
                {
                  "key": 7,
                  "food_source": "Seaweed",
                  "min_depth": 0,
                  "max_depth": 30,
                  "min_temp": 30.1,
                  "max_temp": 31.5,
                  "cal_provided": 4800,
                  "is_poisonous": 0,
                  "ipydguuid": 7
                },
                {
                  "key": 8,
                  "food_source": "Stylophora",
                  "min_depth": 61,
                  "max_depth": 90,
                  "min_temp": 26.7,
                  "max_temp": 28.2,
                  "cal_provided": 4400,
                  "is_poisonous": 0,
                  "ipydguuid": 8
                }
              ],
              "schema": {
                "fields": [
                  {
                    "name": "key",
                    "type": "integer"
                  },
                  {
                    "name": "food_source",
                    "type": "string"
                  },
                  {
                    "name": "min_depth",
                    "type": "integer"
                  },
                  {
                    "name": "max_depth",
                    "type": "integer"
                  },
                  {
                    "name": "min_temp",
                    "type": "number"
                  },
                  {
                    "name": "max_temp",
                    "type": "number"
                  },
                  {
                    "name": "cal_provided",
                    "type": "integer"
                  },
                  {
                    "name": "is_poisonous",
                    "type": "integer"
                  },
                  {
                    "name": "ipydguuid",
                    "type": "integer"
                  }
                ],
                "primaryKey": [
                  "key",
                  "ipydguuid"
                ],
                "pandas_version": "1.4.0",
                "primaryKeyUuid": "ipydguuid"
              },
              "fields": [
                {
                  "key": "$NaN$"
                },
                {
                  "food_source": "$NaN$"
                },
                {
                  "min_depth": "$NaN$"
                },
                {
                  "max_depth": "$NaN$"
                },
                {
                  "min_temp": "$NaN$"
                },
                {
                  "max_temp": "$NaN$"
                },
                {
                  "cal_provided": "$NaN$"
                },
                {
                  "is_poisonous": "$NaN$"
                },
                {
                  "ipydguuid": "$NaN$"
                }
              ]
            },
            "_dom_classes": [],
            "_model_module": "ipydatagrid",
            "_model_module_version": "^1.1.16",
            "_model_name": "DataGridModel",
            "_transforms": [],
            "_view_count": null,
            "_view_module": "ipydatagrid",
            "_view_module_version": "^1.1.16",
            "_view_name": "DataGridView",
            "_visible_rows": [
              0,
              1,
              2,
              3,
              4,
              5,
              6,
              7,
              8
            ],
            "auto_fit_columns": false,
            "auto_fit_params": {
              "area": "all",
              "padding": 30,
              "numCols": null
            },
            "base_column_header_size": 20,
            "base_column_size": 150,
            "base_row_header_size": 64,
            "base_row_size": 32,
            "column_widths": {},
            "corner_renderer": null,
            "default_renderer": "IPY_MODEL_294b5777b887446f97e79d3392b8189c",
            "editable": true,
            "grid_style": {
              "void_color": "#383838"
            },
            "header_renderer": null,
            "header_visibility": "all",
            "layout": "IPY_MODEL_3797eb647a6c4cce81fc17fbc05152d7",
            "renderers": {},
            "selection_mode": "cell",
            "selections": []
          }
        },
        "e012707013c54154bf54f97f21aa4699": {
          "model_module": "ipydatagrid",
          "model_name": "TextRendererModel",
          "model_module_version": "^1.1.16",
          "state": {
            "_model_module": "ipydatagrid",
            "_model_module_version": "^1.1.16",
            "_model_name": "TextRendererModel",
            "_view_count": null,
            "_view_module": "ipydatagrid",
            "_view_module_version": "^1.1.16",
            "_view_name": "TextRendererView",
            "background_color": "IPY_MODEL_3b8a9c95da84405d9c058f692f87f65a",
            "font": "12px sans-serif",
            "format": null,
            "format_type": "number",
            "horizontal_alignment": "left",
            "missing": "",
            "text_color": "IPY_MODEL_6cacd02d10344c08b6aacfe00216efc4",
            "text_elide_direction": "right",
            "text_value": null,
            "text_wrap": false,
            "vertical_alignment": "center"
          }
        },
        "3797eb647a6c4cce81fc17fbc05152d7": {
          "model_module": "@jupyter-widgets/base",
          "model_name": "LayoutModel",
          "model_module_version": "1.2.0",
          "state": {
            "_model_module": "@jupyter-widgets/base",
            "_model_module_version": "1.2.0",
            "_model_name": "LayoutModel",
            "_view_count": null,
            "_view_module": "@jupyter-widgets/base",
            "_view_module_version": "1.2.0",
            "_view_name": "LayoutView",
            "align_content": null,
            "align_items": null,
            "align_self": null,
            "border": null,
            "bottom": null,
            "display": null,
            "flex": null,
            "flex_flow": null,
            "grid_area": null,
            "grid_auto_columns": null,
            "grid_auto_flow": null,
            "grid_auto_rows": null,
            "grid_column": null,
            "grid_gap": null,
            "grid_row": null,
            "grid_template_areas": null,
            "grid_template_columns": null,
            "grid_template_rows": null,
            "height": "320px",
            "justify_content": null,
            "justify_items": null,
            "left": null,
            "margin": null,
            "max_height": null,
            "max_width": null,
            "min_height": null,
            "min_width": null,
            "object_fit": null,
            "object_position": null,
            "order": null,
            "overflow": null,
            "overflow_x": null,
            "overflow_y": null,
            "padding": null,
            "right": null,
            "top": null,
            "visibility": null,
            "width": null
          }
        },
        "3b8a9c95da84405d9c058f692f87f65a": {
          "model_module": "ipydatagrid",
          "model_name": "VegaExprModel",
          "model_module_version": "^1.1.16",
          "state": {
            "_model_module": "ipydatagrid",
            "_model_module_version": "^1.1.16",
            "_model_name": "VegaExprModel",
            "_view_count": null,
            "_view_module": "ipydatagrid",
            "_view_module_version": "^1.1.16",
            "_view_name": "VegaExprView",
            "value": "default_value"
          }
        },
        "6cacd02d10344c08b6aacfe00216efc4": {
          "model_module": "ipydatagrid",
          "model_name": "VegaExprModel",
          "model_module_version": "^1.1.16",
          "state": {
            "_model_module": "ipydatagrid",
            "_model_module_version": "^1.1.16",
            "_model_name": "VegaExprModel",
            "_view_count": null,
            "_view_module": "ipydatagrid",
            "_view_module_version": "^1.1.16",
            "_view_name": "VegaExprView",
            "value": "default_value"
          }
        },
        "55730699323f415c8f978ee29c550646": {
          "model_module": "@jupyter-widgets/controls",
          "model_name": "ButtonModel",
          "model_module_version": "1.5.0",
          "state": {
            "_dom_classes": [],
            "_model_module": "@jupyter-widgets/controls",
            "_model_module_version": "1.5.0",
            "_model_name": "ButtonModel",
            "_view_count": null,
            "_view_module": "@jupyter-widgets/controls",
            "_view_module_version": "1.5.0",
            "_view_name": "ButtonView",
            "button_style": "success",
            "description": "Ecosystem successfully identified",
            "disabled": false,
            "icon": "check",
            "layout": "IPY_MODEL_bc5963b8f3d9435e91df428a6705ff23",
            "style": "IPY_MODEL_d020af7584cc4ad8a43bf19be50bf9aa",
            "tooltip": "Ecosystem successfully identified"
          }
        },
        "bc5963b8f3d9435e91df428a6705ff23": {
          "model_module": "@jupyter-widgets/base",
          "model_name": "LayoutModel",
          "model_module_version": "1.2.0",
          "state": {
            "_model_module": "@jupyter-widgets/base",
            "_model_module_version": "1.2.0",
            "_model_name": "LayoutModel",
            "_view_count": null,
            "_view_module": "@jupyter-widgets/base",
            "_view_module_version": "1.2.0",
            "_view_name": "LayoutView",
            "align_content": null,
            "align_items": null,
            "align_self": null,
            "border": null,
            "bottom": null,
            "display": null,
            "flex": null,
            "flex_flow": null,
            "grid_area": null,
            "grid_auto_columns": null,
            "grid_auto_flow": null,
            "grid_auto_rows": null,
            "grid_column": null,
            "grid_gap": null,
            "grid_row": null,
            "grid_template_areas": null,
            "grid_template_columns": null,
            "grid_template_rows": null,
            "height": null,
            "justify_content": null,
            "justify_items": null,
            "left": null,
            "margin": null,
            "max_height": null,
            "max_width": null,
            "min_height": null,
            "min_width": null,
            "object_fit": null,
            "object_position": null,
            "order": null,
            "overflow": null,
            "overflow_x": null,
            "overflow_y": null,
            "padding": null,
            "right": null,
            "top": null,
            "visibility": null,
            "width": "500px"
          }
        },
        "d020af7584cc4ad8a43bf19be50bf9aa": {
          "model_module": "@jupyter-widgets/controls",
          "model_name": "ButtonStyleModel",
          "model_module_version": "1.5.0",
          "state": {
            "_model_module": "@jupyter-widgets/controls",
            "_model_module_version": "1.5.0",
            "_model_name": "ButtonStyleModel",
            "_view_count": null,
            "_view_module": "@jupyter-widgets/base",
            "_view_module_version": "1.2.0",
            "_view_name": "StyleView",
            "button_color": null,
            "font_weight": ""
          }
        },
        "f12979c8ed894bfd9707ba1eb62b1656": {
          "model_module": "@jupyter-widgets/controls",
          "model_name": "HTMLModel",
          "model_module_version": "1.5.0",
          "state": {
            "_dom_classes": [],
            "_model_module": "@jupyter-widgets/controls",
            "_model_module_version": "1.5.0",
            "_model_name": "HTMLModel",
            "_view_count": null,
            "_view_module": "@jupyter-widgets/controls",
            "_view_module_version": "1.5.0",
            "_view_name": "HTMLView",
            "description": "",
            "description_tooltip": null,
            "layout": "IPY_MODEL_87da112506684a819ac1de1b4a739acd",
            "placeholder": "​",
            "style": "IPY_MODEL_c4679d6416084cc0a1aa13775b5304b7",
            "value": "Only pick animals with these environmental conditions:<br><ul><li>min_depth: <b>31</b></li><li>max_depth: <b>60</b></li><li>min_temp: <b>28.3</b></li><li>max_temp: <b>30.0</b></li></ul>"
          }
        },
        "87da112506684a819ac1de1b4a739acd": {
          "model_module": "@jupyter-widgets/base",
          "model_name": "LayoutModel",
          "model_module_version": "1.2.0",
          "state": {
            "_model_module": "@jupyter-widgets/base",
            "_model_module_version": "1.2.0",
            "_model_name": "LayoutModel",
            "_view_count": null,
            "_view_module": "@jupyter-widgets/base",
            "_view_module_version": "1.2.0",
            "_view_name": "LayoutView",
            "align_content": null,
            "align_items": null,
            "align_self": null,
            "border": null,
            "bottom": null,
            "display": null,
            "flex": null,
            "flex_flow": null,
            "grid_area": null,
            "grid_auto_columns": null,
            "grid_auto_flow": null,
            "grid_auto_rows": null,
            "grid_column": null,
            "grid_gap": null,
            "grid_row": null,
            "grid_template_areas": null,
            "grid_template_columns": null,
            "grid_template_rows": null,
            "height": null,
            "justify_content": null,
            "justify_items": null,
            "left": null,
            "margin": null,
            "max_height": null,
            "max_width": null,
            "min_height": null,
            "min_width": null,
            "object_fit": null,
            "object_position": null,
            "order": null,
            "overflow": null,
            "overflow_x": null,
            "overflow_y": null,
            "padding": null,
            "right": null,
            "top": null,
            "visibility": null,
            "width": null
          }
        },
        "c4679d6416084cc0a1aa13775b5304b7": {
          "model_module": "@jupyter-widgets/controls",
          "model_name": "DescriptionStyleModel",
          "model_module_version": "1.5.0",
          "state": {
            "_model_module": "@jupyter-widgets/controls",
            "_model_module_version": "1.5.0",
            "_model_name": "DescriptionStyleModel",
            "_view_count": null,
            "_view_module": "@jupyter-widgets/base",
            "_view_module_version": "1.2.0",
            "_view_name": "StyleView",
            "description_width": ""
          }
        },
        "a53f461b244d40108d877cc84b5e20b4": {
          "model_module": "ipydatagrid",
          "model_name": "TextRendererModel",
          "model_module_version": "^1.1.16",
          "state": {
            "_model_module": "ipydatagrid",
            "_model_module_version": "^1.1.16",
            "_model_name": "TextRendererModel",
            "_view_count": null,
            "_view_module": "ipydatagrid",
            "_view_module_version": "^1.1.16",
            "_view_name": "TextRendererView",
            "background_color": "IPY_MODEL_00b8b5dcf72d4495a03dd0d497fed8e9",
            "font": "12px sans-serif",
            "format": null,
            "format_type": "number",
            "horizontal_alignment": "left",
            "missing": "",
            "text_color": "IPY_MODEL_c6e792a4465947a282fb3dab3d27dfa9",
            "text_elide_direction": "right",
            "text_value": null,
            "text_wrap": false,
            "vertical_alignment": "center"
          }
        },
        "00b8b5dcf72d4495a03dd0d497fed8e9": {
          "model_module": "ipydatagrid",
          "model_name": "VegaExprModel",
          "model_module_version": "^1.1.16",
          "state": {
            "_model_module": "ipydatagrid",
            "_model_module_version": "^1.1.16",
            "_model_name": "VegaExprModel",
            "_view_count": null,
            "_view_module": "ipydatagrid",
            "_view_module_version": "^1.1.16",
            "_view_name": "VegaExprView",
            "value": "cell.metadata.row == 1 | cell.metadata.row == 2 | cell.metadata.row == 5 ? '#a1c9f4' : '#ffffff'"
          }
        },
        "c6e792a4465947a282fb3dab3d27dfa9": {
          "model_module": "ipydatagrid",
          "model_name": "VegaExprModel",
          "model_module_version": "^1.1.16",
          "state": {
            "_model_module": "ipydatagrid",
            "_model_module_version": "^1.1.16",
            "_model_name": "VegaExprModel",
            "_view_count": null,
            "_view_module": "ipydatagrid",
            "_view_module_version": "^1.1.16",
            "_view_name": "VegaExprView",
            "value": "default_value"
          }
        },
        "f8f633c00a91467db2f219e225f58c55": {
          "model_module": "ipydatagrid",
          "model_name": "TextRendererModel",
          "model_module_version": "^1.1.16",
          "state": {
            "_model_module": "ipydatagrid",
            "_model_module_version": "^1.1.16",
            "_model_name": "TextRendererModel",
            "_view_count": null,
            "_view_module": "ipydatagrid",
            "_view_module_version": "^1.1.16",
            "_view_name": "TextRendererView",
            "background_color": "IPY_MODEL_d4bb0d68c2874de9939272086e989c44",
            "font": "12px sans-serif",
            "format": null,
            "format_type": "number",
            "horizontal_alignment": "left",
            "missing": "",
            "text_color": "IPY_MODEL_5dd38c3b0d634dc7be0948d894d425d5",
            "text_elide_direction": "right",
            "text_value": null,
            "text_wrap": false,
            "vertical_alignment": "center"
          }
        },
        "d4bb0d68c2874de9939272086e989c44": {
          "model_module": "ipydatagrid",
          "model_name": "VegaExprModel",
          "model_module_version": "^1.1.16",
          "state": {
            "_model_module": "ipydatagrid",
            "_model_module_version": "^1.1.16",
            "_model_name": "VegaExprModel",
            "_view_count": null,
            "_view_module": "ipydatagrid",
            "_view_module_version": "^1.1.16",
            "_view_name": "VegaExprView",
            "value": "cell.metadata.row == 1 | cell.metadata.row == 2 | cell.metadata.row == 5 ? '#a1c9f4' : '#ffffff'"
          }
        },
        "5dd38c3b0d634dc7be0948d894d425d5": {
          "model_module": "ipydatagrid",
          "model_name": "VegaExprModel",
          "model_module_version": "^1.1.16",
          "state": {
            "_model_module": "ipydatagrid",
            "_model_module_version": "^1.1.16",
            "_model_name": "VegaExprModel",
            "_view_count": null,
            "_view_module": "ipydatagrid",
            "_view_module_version": "^1.1.16",
            "_view_name": "VegaExprView",
            "value": "default_value"
          }
        },
        "f7617a118e504f608177c3ba42d9b447": {
          "model_module": "ipydatagrid",
          "model_name": "TextRendererModel",
          "model_module_version": "^1.1.16",
          "state": {
            "_model_module": "ipydatagrid",
            "_model_module_version": "^1.1.16",
            "_model_name": "TextRendererModel",
            "_view_count": null,
            "_view_module": "ipydatagrid",
            "_view_module_version": "^1.1.16",
            "_view_name": "TextRendererView",
            "background_color": "IPY_MODEL_e055c1f7cfea4ab8a50cbf79f8434396",
            "font": "12px sans-serif",
            "format": null,
            "format_type": "number",
            "horizontal_alignment": "left",
            "missing": "",
            "text_color": "IPY_MODEL_4e11f4ad59ae444595af57d5a77d0eff",
            "text_elide_direction": "right",
            "text_value": null,
            "text_wrap": false,
            "vertical_alignment": "center"
          }
        },
        "e055c1f7cfea4ab8a50cbf79f8434396": {
          "model_module": "ipydatagrid",
          "model_name": "VegaExprModel",
          "model_module_version": "^1.1.16",
          "state": {
            "_model_module": "ipydatagrid",
            "_model_module_version": "^1.1.16",
            "_model_name": "VegaExprModel",
            "_view_count": null,
            "_view_module": "ipydatagrid",
            "_view_module_version": "^1.1.16",
            "_view_name": "VegaExprView",
            "value": "cell.metadata.row == 1 | cell.metadata.row == 2 | cell.metadata.row == 5 ? '#a1c9f4' : '#ffffff'"
          }
        },
        "4e11f4ad59ae444595af57d5a77d0eff": {
          "model_module": "ipydatagrid",
          "model_name": "VegaExprModel",
          "model_module_version": "^1.1.16",
          "state": {
            "_model_module": "ipydatagrid",
            "_model_module_version": "^1.1.16",
            "_model_name": "VegaExprModel",
            "_view_count": null,
            "_view_module": "ipydatagrid",
            "_view_module_version": "^1.1.16",
            "_view_name": "VegaExprView",
            "value": "default_value"
          }
        },
        "d993a4b331d241898571da34ad8bf19e": {
          "model_module": "ipydatagrid",
          "model_name": "TextRendererModel",
          "model_module_version": "^1.1.16",
          "state": {
            "_model_module": "ipydatagrid",
            "_model_module_version": "^1.1.16",
            "_model_name": "TextRendererModel",
            "_view_count": null,
            "_view_module": "ipydatagrid",
            "_view_module_version": "^1.1.16",
            "_view_name": "TextRendererView",
            "background_color": "IPY_MODEL_e205df1b8eb64a4992a97cdf49a60990",
            "font": "12px sans-serif",
            "format": null,
            "format_type": "number",
            "horizontal_alignment": "left",
            "missing": "",
            "text_color": "IPY_MODEL_c3fb74fd32c7450786c0d01e39db3d04",
            "text_elide_direction": "right",
            "text_value": null,
            "text_wrap": false,
            "vertical_alignment": "center"
          }
        },
        "e205df1b8eb64a4992a97cdf49a60990": {
          "model_module": "ipydatagrid",
          "model_name": "VegaExprModel",
          "model_module_version": "^1.1.16",
          "state": {
            "_model_module": "ipydatagrid",
            "_model_module_version": "^1.1.16",
            "_model_name": "VegaExprModel",
            "_view_count": null,
            "_view_module": "ipydatagrid",
            "_view_module_version": "^1.1.16",
            "_view_name": "VegaExprView",
            "value": "cell.metadata.row == 1 | cell.metadata.row == 2 | cell.metadata.row == 5 ? '#a1c9f4' : '#ffffff'"
          }
        },
        "c3fb74fd32c7450786c0d01e39db3d04": {
          "model_module": "ipydatagrid",
          "model_name": "VegaExprModel",
          "model_module_version": "^1.1.16",
          "state": {
            "_model_module": "ipydatagrid",
            "_model_module_version": "^1.1.16",
            "_model_name": "VegaExprModel",
            "_view_count": null,
            "_view_module": "ipydatagrid",
            "_view_module_version": "^1.1.16",
            "_view_name": "VegaExprView",
            "value": "default_value"
          }
        },
        "294b5777b887446f97e79d3392b8189c": {
          "model_module": "ipydatagrid",
          "model_name": "TextRendererModel",
          "model_module_version": "^1.1.16",
          "state": {
            "_model_module": "ipydatagrid",
            "_model_module_version": "^1.1.16",
            "_model_name": "TextRendererModel",
            "_view_count": null,
            "_view_module": "ipydatagrid",
            "_view_module_version": "^1.1.16",
            "_view_name": "TextRendererView",
            "background_color": "IPY_MODEL_09336a37b43b4d40be2637b551ebcf05",
            "font": "12px sans-serif",
            "format": null,
            "format_type": "number",
            "horizontal_alignment": "left",
            "missing": "",
            "text_color": "IPY_MODEL_b26b38ecf8b64a1190e5aec5eea5ee95",
            "text_elide_direction": "right",
            "text_value": null,
            "text_wrap": false,
            "vertical_alignment": "center"
          }
        },
        "09336a37b43b4d40be2637b551ebcf05": {
          "model_module": "ipydatagrid",
          "model_name": "VegaExprModel",
          "model_module_version": "^1.1.16",
          "state": {
            "_model_module": "ipydatagrid",
            "_model_module_version": "^1.1.16",
            "_model_name": "VegaExprModel",
            "_view_count": null,
            "_view_module": "ipydatagrid",
            "_view_module_version": "^1.1.16",
            "_view_name": "VegaExprView",
            "value": "cell.metadata.row == 1 | cell.metadata.row == 2 | cell.metadata.row == 5 ? '#a1c9f4' : '#ffffff'"
          }
        },
        "b26b38ecf8b64a1190e5aec5eea5ee95": {
          "model_module": "ipydatagrid",
          "model_name": "VegaExprModel",
          "model_module_version": "^1.1.16",
          "state": {
            "_model_module": "ipydatagrid",
            "_model_module_version": "^1.1.16",
            "_model_name": "VegaExprModel",
            "_view_count": null,
            "_view_module": "ipydatagrid",
            "_view_module_version": "^1.1.16",
            "_view_name": "VegaExprView",
            "value": "default_value"
          }
        },
        "52c37a35c9714c40b49274922ac95603": {
          "model_module": "@jupyter-widgets/controls",
          "model_name": "ButtonModel",
          "model_module_version": "1.5.0",
          "state": {
            "_dom_classes": [],
            "_model_module": "@jupyter-widgets/controls",
            "_model_module_version": "1.5.0",
            "_model_name": "ButtonModel",
            "_view_count": null,
            "_view_module": "@jupyter-widgets/controls",
            "_view_module_version": "1.5.0",
            "_view_name": "ButtonView",
            "button_style": "",
            "description": "Use demo data",
            "disabled": false,
            "icon": "clone",
            "layout": "IPY_MODEL_823a69c9b999461aa57deaf4540ccd31",
            "style": "IPY_MODEL_e1c559a7884248cea880d407dd06d8bf",
            "tooltip": "Use demo data"
          }
        },
        "823a69c9b999461aa57deaf4540ccd31": {
          "model_module": "@jupyter-widgets/base",
          "model_name": "LayoutModel",
          "model_module_version": "1.2.0",
          "state": {
            "_model_module": "@jupyter-widgets/base",
            "_model_module_version": "1.2.0",
            "_model_name": "LayoutModel",
            "_view_count": null,
            "_view_module": "@jupyter-widgets/base",
            "_view_module_version": "1.2.0",
            "_view_name": "LayoutView",
            "align_content": null,
            "align_items": null,
            "align_self": null,
            "border": null,
            "bottom": null,
            "display": null,
            "flex": null,
            "flex_flow": null,
            "grid_area": null,
            "grid_auto_columns": null,
            "grid_auto_flow": null,
            "grid_auto_rows": null,
            "grid_column": null,
            "grid_gap": null,
            "grid_row": null,
            "grid_template_areas": null,
            "grid_template_columns": null,
            "grid_template_rows": null,
            "height": null,
            "justify_content": null,
            "justify_items": null,
            "left": null,
            "margin": null,
            "max_height": null,
            "max_width": null,
            "min_height": null,
            "min_width": null,
            "object_fit": null,
            "object_position": null,
            "order": null,
            "overflow": null,
            "overflow_x": null,
            "overflow_y": null,
            "padding": null,
            "right": null,
            "top": null,
            "visibility": null,
            "width": null
          }
        },
        "e1c559a7884248cea880d407dd06d8bf": {
          "model_module": "@jupyter-widgets/controls",
          "model_name": "ButtonStyleModel",
          "model_module_version": "1.5.0",
          "state": {
            "_model_module": "@jupyter-widgets/controls",
            "_model_module_version": "1.5.0",
            "_model_name": "ButtonStyleModel",
            "_view_count": null,
            "_view_module": "@jupyter-widgets/base",
            "_view_module_version": "1.2.0",
            "_view_name": "StyleView",
            "button_color": null,
            "font_weight": ""
          }
        },
        "7b9f378bdb0342d583e8ebd86641e3e1": {
          "model_module": "@jupyter-widgets/controls",
          "model_name": "LabelModel",
          "model_module_version": "1.5.0",
          "state": {
            "_dom_classes": [],
            "_model_module": "@jupyter-widgets/controls",
            "_model_module_version": "1.5.0",
            "_model_name": "LabelModel",
            "_view_count": null,
            "_view_module": "@jupyter-widgets/controls",
            "_view_module_version": "1.5.0",
            "_view_name": "LabelView",
            "description": "",
            "description_tooltip": null,
            "layout": "IPY_MODEL_6a60a9bce620409f9674e0d1030c3156",
            "placeholder": "​",
            "style": "IPY_MODEL_a2b8c6ab194047a39df9d1e2a10fec3b",
            "value": "The names of the animals of the chosen ecosystem (separated by semikolon):"
          }
        },
        "6a60a9bce620409f9674e0d1030c3156": {
          "model_module": "@jupyter-widgets/base",
          "model_name": "LayoutModel",
          "model_module_version": "1.2.0",
          "state": {
            "_model_module": "@jupyter-widgets/base",
            "_model_module_version": "1.2.0",
            "_model_name": "LayoutModel",
            "_view_count": null,
            "_view_module": "@jupyter-widgets/base",
            "_view_module_version": "1.2.0",
            "_view_name": "LayoutView",
            "align_content": null,
            "align_items": null,
            "align_self": null,
            "border": null,
            "bottom": null,
            "display": null,
            "flex": null,
            "flex_flow": null,
            "grid_area": null,
            "grid_auto_columns": null,
            "grid_auto_flow": null,
            "grid_auto_rows": null,
            "grid_column": null,
            "grid_gap": null,
            "grid_row": null,
            "grid_template_areas": null,
            "grid_template_columns": null,
            "grid_template_rows": null,
            "height": null,
            "justify_content": null,
            "justify_items": null,
            "left": null,
            "margin": null,
            "max_height": null,
            "max_width": null,
            "min_height": null,
            "min_width": null,
            "object_fit": null,
            "object_position": null,
            "order": null,
            "overflow": null,
            "overflow_x": null,
            "overflow_y": null,
            "padding": null,
            "right": null,
            "top": null,
            "visibility": null,
            "width": null
          }
        },
        "a2b8c6ab194047a39df9d1e2a10fec3b": {
          "model_module": "@jupyter-widgets/controls",
          "model_name": "DescriptionStyleModel",
          "model_module_version": "1.5.0",
          "state": {
            "_model_module": "@jupyter-widgets/controls",
            "_model_module_version": "1.5.0",
            "_model_name": "DescriptionStyleModel",
            "_view_count": null,
            "_view_module": "@jupyter-widgets/base",
            "_view_module_version": "1.2.0",
            "_view_name": "StyleView",
            "description_width": ""
          }
        },
        "2859a263d1964254a24087617a9a54c2": {
          "model_module": "@jupyter-widgets/controls",
          "model_name": "TextareaModel",
          "model_module_version": "1.5.0",
          "state": {
            "_dom_classes": [],
            "_model_module": "@jupyter-widgets/controls",
            "_model_module_version": "1.5.0",
            "_model_name": "TextareaModel",
            "_view_count": null,
            "_view_module": "@jupyter-widgets/controls",
            "_view_module_version": "1.5.0",
            "_view_name": "TextareaView",
            "continuous_update": true,
            "description": "",
            "description_tooltip": null,
            "disabled": false,
            "layout": "IPY_MODEL_aa62ebd446804e1796f4a4b3e8ed88f4",
            "placeholder": "List the foodsource names separated by semikolon",
            "rows": null,
            "style": "IPY_MODEL_6f56e7d1179844e6b3c78d1e363b654c",
            "value": "Bigeye Fish;Bigeye Tuna;Cod;Dotted Fish;Killer Whale;Lionfish;Mackarel;Turtle;Violet Fish;White Shark"
          }
        },
        "aa62ebd446804e1796f4a4b3e8ed88f4": {
          "model_module": "@jupyter-widgets/base",
          "model_name": "LayoutModel",
          "model_module_version": "1.2.0",
          "state": {
            "_model_module": "@jupyter-widgets/base",
            "_model_module_version": "1.2.0",
            "_model_name": "LayoutModel",
            "_view_count": null,
            "_view_module": "@jupyter-widgets/base",
            "_view_module_version": "1.2.0",
            "_view_name": "LayoutView",
            "align_content": null,
            "align_items": null,
            "align_self": null,
            "border": null,
            "bottom": null,
            "display": null,
            "flex": null,
            "flex_flow": null,
            "grid_area": null,
            "grid_auto_columns": null,
            "grid_auto_flow": null,
            "grid_auto_rows": null,
            "grid_column": null,
            "grid_gap": null,
            "grid_row": null,
            "grid_template_areas": null,
            "grid_template_columns": null,
            "grid_template_rows": null,
            "height": "80px",
            "justify_content": null,
            "justify_items": null,
            "left": null,
            "margin": null,
            "max_height": null,
            "max_width": null,
            "min_height": null,
            "min_width": null,
            "object_fit": null,
            "object_position": null,
            "order": null,
            "overflow": null,
            "overflow_x": null,
            "overflow_y": null,
            "padding": null,
            "right": null,
            "top": null,
            "visibility": null,
            "width": "500px"
          }
        },
        "6f56e7d1179844e6b3c78d1e363b654c": {
          "model_module": "@jupyter-widgets/controls",
          "model_name": "DescriptionStyleModel",
          "model_module_version": "1.5.0",
          "state": {
            "_model_module": "@jupyter-widgets/controls",
            "_model_module_version": "1.5.0",
            "_model_name": "DescriptionStyleModel",
            "_view_count": null,
            "_view_module": "@jupyter-widgets/base",
            "_view_module_version": "1.2.0",
            "_view_name": "StyleView",
            "description_width": ""
          }
        },
        "1fa43a6c8c5d4558bb7929922be8c12a": {
          "model_module": "@jupyter-widgets/controls",
          "model_name": "ButtonModel",
          "model_module_version": "1.5.0",
          "state": {
            "_dom_classes": [],
            "_model_module": "@jupyter-widgets/controls",
            "_model_module_version": "1.5.0",
            "_model_name": "ButtonModel",
            "_view_count": null,
            "_view_module": "@jupyter-widgets/controls",
            "_view_module_version": "1.5.0",
            "_view_name": "ButtonView",
            "button_style": "success",
            "description": "Animal names listed successfully. Run next Cell now.",
            "disabled": false,
            "icon": "check",
            "layout": "IPY_MODEL_991dc695bc4d48639799afa23c0c3166",
            "style": "IPY_MODEL_5ba073be68054351802a9f48bdead2a6",
            "tooltip": ""
          }
        },
        "991dc695bc4d48639799afa23c0c3166": {
          "model_module": "@jupyter-widgets/base",
          "model_name": "LayoutModel",
          "model_module_version": "1.2.0",
          "state": {
            "_model_module": "@jupyter-widgets/base",
            "_model_module_version": "1.2.0",
            "_model_name": "LayoutModel",
            "_view_count": null,
            "_view_module": "@jupyter-widgets/base",
            "_view_module_version": "1.2.0",
            "_view_name": "LayoutView",
            "align_content": null,
            "align_items": null,
            "align_self": null,
            "border": null,
            "bottom": null,
            "display": null,
            "flex": null,
            "flex_flow": null,
            "grid_area": null,
            "grid_auto_columns": null,
            "grid_auto_flow": null,
            "grid_auto_rows": null,
            "grid_column": null,
            "grid_gap": null,
            "grid_row": null,
            "grid_template_areas": null,
            "grid_template_columns": null,
            "grid_template_rows": null,
            "height": null,
            "justify_content": null,
            "justify_items": null,
            "left": null,
            "margin": null,
            "max_height": null,
            "max_width": null,
            "min_height": null,
            "min_width": null,
            "object_fit": null,
            "object_position": null,
            "order": null,
            "overflow": null,
            "overflow_x": null,
            "overflow_y": null,
            "padding": null,
            "right": null,
            "top": null,
            "visibility": null,
            "width": "500px"
          }
        },
        "5ba073be68054351802a9f48bdead2a6": {
          "model_module": "@jupyter-widgets/controls",
          "model_name": "ButtonStyleModel",
          "model_module_version": "1.5.0",
          "state": {
            "_model_module": "@jupyter-widgets/controls",
            "_model_module_version": "1.5.0",
            "_model_name": "ButtonStyleModel",
            "_view_count": null,
            "_view_module": "@jupyter-widgets/base",
            "_view_module_version": "1.2.0",
            "_view_name": "StyleView",
            "button_color": null,
            "font_weight": ""
          }
        },
        "a3a2c397107b48ee81fdfb83de1996e5": {
          "model_module": "@jupyter-widgets/controls",
          "model_name": "ButtonModel",
          "model_module_version": "1.5.0",
          "state": {
            "_dom_classes": [],
            "_model_module": "@jupyter-widgets/controls",
            "_model_module_version": "1.5.0",
            "_model_name": "ButtonModel",
            "_view_count": null,
            "_view_module": "@jupyter-widgets/controls",
            "_view_module_version": "1.5.0",
            "_view_name": "ButtonView",
            "button_style": "",
            "description": "Use demo data",
            "disabled": false,
            "icon": "clone",
            "layout": "IPY_MODEL_380e0091fb6b44e9b2d543f8ca47a076",
            "style": "IPY_MODEL_16f8d0448d014164988de0a80777d35f",
            "tooltip": "Use demo data"
          }
        },
        "380e0091fb6b44e9b2d543f8ca47a076": {
          "model_module": "@jupyter-widgets/base",
          "model_name": "LayoutModel",
          "model_module_version": "1.2.0",
          "state": {
            "_model_module": "@jupyter-widgets/base",
            "_model_module_version": "1.2.0",
            "_model_name": "LayoutModel",
            "_view_count": null,
            "_view_module": "@jupyter-widgets/base",
            "_view_module_version": "1.2.0",
            "_view_name": "LayoutView",
            "align_content": null,
            "align_items": null,
            "align_self": null,
            "border": null,
            "bottom": null,
            "display": null,
            "flex": null,
            "flex_flow": null,
            "grid_area": null,
            "grid_auto_columns": null,
            "grid_auto_flow": null,
            "grid_auto_rows": null,
            "grid_column": null,
            "grid_gap": null,
            "grid_row": null,
            "grid_template_areas": null,
            "grid_template_columns": null,
            "grid_template_rows": null,
            "height": null,
            "justify_content": null,
            "justify_items": null,
            "left": null,
            "margin": null,
            "max_height": null,
            "max_width": null,
            "min_height": null,
            "min_width": null,
            "object_fit": null,
            "object_position": null,
            "order": null,
            "overflow": null,
            "overflow_x": null,
            "overflow_y": null,
            "padding": null,
            "right": null,
            "top": null,
            "visibility": null,
            "width": null
          }
        },
        "16f8d0448d014164988de0a80777d35f": {
          "model_module": "@jupyter-widgets/controls",
          "model_name": "ButtonStyleModel",
          "model_module_version": "1.5.0",
          "state": {
            "_model_module": "@jupyter-widgets/controls",
            "_model_module_version": "1.5.0",
            "_model_name": "ButtonStyleModel",
            "_view_count": null,
            "_view_module": "@jupyter-widgets/base",
            "_view_module_version": "1.2.0",
            "_view_name": "StyleView",
            "button_color": null,
            "font_weight": ""
          }
        },
        "c1bd1a9d35f74defb3a4a44fc5e0bdeb": {
          "model_module": "@jupyter-widgets/controls",
          "model_name": "LabelModel",
          "model_module_version": "1.5.0",
          "state": {
            "_dom_classes": [],
            "_model_module": "@jupyter-widgets/controls",
            "_model_module_version": "1.5.0",
            "_model_name": "LabelModel",
            "_view_count": null,
            "_view_module": "@jupyter-widgets/controls",
            "_view_module_version": "1.5.0",
            "_view_name": "LabelView",
            "description": "",
            "description_tooltip": null,
            "layout": "IPY_MODEL_09d454fd3c754ed7ab291a665f1f39b4",
            "placeholder": "​",
            "style": "IPY_MODEL_0aed0d99e51c44f1887cdb1d472a10b6",
            "value": "Fill in the missing parameters (calories and which species serve as foodsources) of these species:"
          }
        },
        "09d454fd3c754ed7ab291a665f1f39b4": {
          "model_module": "@jupyter-widgets/base",
          "model_name": "LayoutModel",
          "model_module_version": "1.2.0",
          "state": {
            "_model_module": "@jupyter-widgets/base",
            "_model_module_version": "1.2.0",
            "_model_name": "LayoutModel",
            "_view_count": null,
            "_view_module": "@jupyter-widgets/base",
            "_view_module_version": "1.2.0",
            "_view_name": "LayoutView",
            "align_content": null,
            "align_items": null,
            "align_self": null,
            "border": null,
            "bottom": null,
            "display": null,
            "flex": null,
            "flex_flow": null,
            "grid_area": null,
            "grid_auto_columns": null,
            "grid_auto_flow": null,
            "grid_auto_rows": null,
            "grid_column": null,
            "grid_gap": null,
            "grid_row": null,
            "grid_template_areas": null,
            "grid_template_columns": null,
            "grid_template_rows": null,
            "height": null,
            "justify_content": null,
            "justify_items": null,
            "left": null,
            "margin": null,
            "max_height": null,
            "max_width": null,
            "min_height": null,
            "min_width": null,
            "object_fit": null,
            "object_position": null,
            "order": null,
            "overflow": null,
            "overflow_x": null,
            "overflow_y": null,
            "padding": null,
            "right": null,
            "top": null,
            "visibility": null,
            "width": null
          }
        },
        "0aed0d99e51c44f1887cdb1d472a10b6": {
          "model_module": "@jupyter-widgets/controls",
          "model_name": "DescriptionStyleModel",
          "model_module_version": "1.5.0",
          "state": {
            "_model_module": "@jupyter-widgets/controls",
            "_model_module_version": "1.5.0",
            "_model_name": "DescriptionStyleModel",
            "_view_count": null,
            "_view_module": "@jupyter-widgets/base",
            "_view_module_version": "1.2.0",
            "_view_name": "StyleView",
            "description_width": ""
          }
        },
        "5385b0909e984350aa0318f16730bd44": {
          "model_module": "ipydatagrid",
          "model_name": "DataGridModel",
          "model_module_version": "^1.1.16",
          "state": {
            "_data": {
              "data": [
                {
                  "key": 0,
                  "food_source": "Bigeye Fish",
                  "cal_provided": 3150,
                  "cal_needed": 3200,
                  "Bigeye Fish": 0,
                  "Bigeye Tuna": 0,
                  "Cod": 0,
                  "Dotted Fish": 1,
                  "Killer Whale": 0,
                  "Lionfish": 0,
                  "Mackarel": 1,
                  "Turtle": 1,
                  "Violet Fish": 0,
                  "White Shark": 0,
                  "Brain Coral": 0,
                  "Doughnut Coral": 0,
                  "Red Coral": 0,
                  "ipydguuid": 0
                },
                {
                  "key": 1,
                  "food_source": "Bigeye Tuna",
                  "cal_provided": 650,
                  "cal_needed": 1600,
                  "Bigeye Fish": 1,
                  "Bigeye Tuna": 0,
                  "Cod": 0,
                  "Dotted Fish": 0,
                  "Killer Whale": 0,
                  "Lionfish": 0,
                  "Mackarel": 0,
                  "Turtle": 0,
                  "Violet Fish": 0,
                  "White Shark": 0,
                  "Brain Coral": 0,
                  "Doughnut Coral": 0,
                  "Red Coral": 0,
                  "ipydguuid": 1
                },
                {
                  "key": 2,
                  "food_source": "Cod",
                  "cal_provided": 2100,
                  "cal_needed": 5600,
                  "Bigeye Fish": 0,
                  "Bigeye Tuna": 0,
                  "Cod": 0,
                  "Dotted Fish": 0,
                  "Killer Whale": 0,
                  "Lionfish": 0,
                  "Mackarel": 1,
                  "Turtle": 0,
                  "Violet Fish": 1,
                  "White Shark": 0,
                  "Brain Coral": 0,
                  "Doughnut Coral": 0,
                  "Red Coral": 0,
                  "ipydguuid": 2
                },
                {
                  "key": 3,
                  "food_source": "Dotted Fish",
                  "cal_provided": 2200,
                  "cal_needed": 4500,
                  "Bigeye Fish": 0,
                  "Bigeye Tuna": 0,
                  "Cod": 0,
                  "Dotted Fish": 0,
                  "Killer Whale": 0,
                  "Lionfish": 0,
                  "Mackarel": 0,
                  "Turtle": 0,
                  "Violet Fish": 0,
                  "White Shark": 0,
                  "Brain Coral": 0,
                  "Doughnut Coral": 0,
                  "Red Coral": 1,
                  "ipydguuid": 3
                },
                {
                  "key": 4,
                  "food_source": "Killer Whale",
                  "cal_provided": 3100,
                  "cal_needed": 2200,
                  "Bigeye Fish": 0,
                  "Bigeye Tuna": 0,
                  "Cod": 0,
                  "Dotted Fish": 1,
                  "Killer Whale": 0,
                  "Lionfish": 0,
                  "Mackarel": 0,
                  "Turtle": 0,
                  "Violet Fish": 1,
                  "White Shark": 0,
                  "Brain Coral": 0,
                  "Doughnut Coral": 0,
                  "Red Coral": 0,
                  "ipydguuid": 4
                },
                {
                  "key": 5,
                  "food_source": "Lionfish",
                  "cal_provided": 1650,
                  "cal_needed": 2500,
                  "Bigeye Fish": 0,
                  "Bigeye Tuna": 0,
                  "Cod": 0,
                  "Dotted Fish": 1,
                  "Killer Whale": 0,
                  "Lionfish": 0,
                  "Mackarel": 0,
                  "Turtle": 0,
                  "Violet Fish": 0,
                  "White Shark": 0,
                  "Brain Coral": 0,
                  "Doughnut Coral": 0,
                  "Red Coral": 0,
                  "ipydguuid": 5
                },
                {
                  "key": 6,
                  "food_source": "Mackarel",
                  "cal_provided": 3650,
                  "cal_needed": 4300,
                  "Bigeye Fish": 0,
                  "Bigeye Tuna": 0,
                  "Cod": 0,
                  "Dotted Fish": 0,
                  "Killer Whale": 0,
                  "Lionfish": 0,
                  "Mackarel": 0,
                  "Turtle": 0,
                  "Violet Fish": 0,
                  "White Shark": 0,
                  "Brain Coral": 1,
                  "Doughnut Coral": 1,
                  "Red Coral": 1,
                  "ipydguuid": 6
                },
                {
                  "key": 7,
                  "food_source": "Turtle",
                  "cal_provided": 1100,
                  "cal_needed": 2600,
                  "Bigeye Fish": 0,
                  "Bigeye Tuna": 0,
                  "Cod": 0,
                  "Dotted Fish": 0,
                  "Killer Whale": 0,
                  "Lionfish": 0,
                  "Mackarel": 0,
                  "Turtle": 0,
                  "Violet Fish": 0,
                  "White Shark": 0,
                  "Brain Coral": 0,
                  "Doughnut Coral": 1,
                  "Red Coral": 0,
                  "ipydguuid": 7
                },
                {
                  "key": 8,
                  "food_source": "Violet Fish",
                  "cal_provided": 1500,
                  "cal_needed": 4200,
                  "Bigeye Fish": 0,
                  "Bigeye Tuna": 0,
                  "Cod": 0,
                  "Dotted Fish": 0,
                  "Killer Whale": 0,
                  "Lionfish": 0,
                  "Mackarel": 0,
                  "Turtle": 0,
                  "Violet Fish": 0,
                  "White Shark": 0,
                  "Brain Coral": 0,
                  "Doughnut Coral": 1,
                  "Red Coral": 1,
                  "ipydguuid": 8
                },
                {
                  "key": 9,
                  "food_source": "White Shark",
                  "cal_provided": 1800,
                  "cal_needed": 1300,
                  "Bigeye Fish": 1,
                  "Bigeye Tuna": 0,
                  "Cod": 0,
                  "Dotted Fish": 0,
                  "Killer Whale": 0,
                  "Lionfish": 0,
                  "Mackarel": 0,
                  "Turtle": 0,
                  "Violet Fish": 0,
                  "White Shark": 0,
                  "Brain Coral": 0,
                  "Doughnut Coral": 0,
                  "Red Coral": 0,
                  "ipydguuid": 9
                }
              ],
              "schema": {
                "fields": [
                  {
                    "name": "key",
                    "type": "integer"
                  },
                  {
                    "name": "food_source",
                    "type": "string"
                  },
                  {
                    "name": "cal_provided",
                    "type": "integer"
                  },
                  {
                    "name": "cal_needed",
                    "type": "integer"
                  },
                  {
                    "name": "Bigeye Fish",
                    "type": "integer"
                  },
                  {
                    "name": "Bigeye Tuna",
                    "type": "integer"
                  },
                  {
                    "name": "Cod",
                    "type": "integer"
                  },
                  {
                    "name": "Dotted Fish",
                    "type": "integer"
                  },
                  {
                    "name": "Killer Whale",
                    "type": "integer"
                  },
                  {
                    "name": "Lionfish",
                    "type": "integer"
                  },
                  {
                    "name": "Mackarel",
                    "type": "integer"
                  },
                  {
                    "name": "Turtle",
                    "type": "integer"
                  },
                  {
                    "name": "Violet Fish",
                    "type": "integer"
                  },
                  {
                    "name": "White Shark",
                    "type": "integer"
                  },
                  {
                    "name": "Brain Coral",
                    "type": "integer"
                  },
                  {
                    "name": "Doughnut Coral",
                    "type": "integer"
                  },
                  {
                    "name": "Red Coral",
                    "type": "integer"
                  },
                  {
                    "name": "ipydguuid",
                    "type": "integer"
                  }
                ],
                "primaryKey": [
                  "key",
                  "ipydguuid"
                ],
                "pandas_version": "1.4.0",
                "primaryKeyUuid": "ipydguuid"
              },
              "fields": [
                {
                  "key": "$NaN$"
                },
                {
                  "food_source": "$NaN$"
                },
                {
                  "cal_provided": "$NaN$"
                },
                {
                  "cal_needed": "$NaN$"
                },
                {
                  "Bigeye Fish": "$NaN$"
                },
                {
                  "Bigeye Tuna": "$NaN$"
                },
                {
                  "Cod": "$NaN$"
                },
                {
                  "Dotted Fish": "$NaN$"
                },
                {
                  "Killer Whale": "$NaN$"
                },
                {
                  "Lionfish": "$NaN$"
                },
                {
                  "Mackarel": "$NaN$"
                },
                {
                  "Turtle": "$NaN$"
                },
                {
                  "Violet Fish": "$NaN$"
                },
                {
                  "White Shark": "$NaN$"
                },
                {
                  "Brain Coral": "$NaN$"
                },
                {
                  "Doughnut Coral": "$NaN$"
                },
                {
                  "Red Coral": "$NaN$"
                },
                {
                  "ipydguuid": "$NaN$"
                }
              ]
            },
            "_dom_classes": [],
            "_model_module": "ipydatagrid",
            "_model_module_version": "^1.1.16",
            "_model_name": "DataGridModel",
            "_transforms": [],
            "_view_count": null,
            "_view_module": "ipydatagrid",
            "_view_module_version": "^1.1.16",
            "_view_name": "DataGridView",
            "_visible_rows": [
              0,
              1,
              2,
              3,
              4,
              5,
              6,
              7,
              8,
              9
            ],
            "auto_fit_columns": false,
            "auto_fit_params": {
              "area": "all",
              "padding": 30,
              "numCols": null
            },
            "base_column_header_size": 20,
            "base_column_size": 100,
            "base_row_header_size": 64,
            "base_row_size": 32,
            "column_widths": {},
            "corner_renderer": null,
            "default_renderer": "IPY_MODEL_4906c7dc54b24e83a03eb04ce8f0c2e1",
            "editable": true,
            "grid_style": {
              "void_color": "#383838"
            },
            "header_renderer": null,
            "header_visibility": "all",
            "layout": "IPY_MODEL_54aa0fd53c134d2ca9ec1d91ba5fe3ca",
            "renderers": {},
            "selection_mode": "cell",
            "selections": []
          }
        },
        "6ec45e28545b4743a2d8c7587c5c32d7": {
          "model_module": "ipydatagrid",
          "model_name": "TextRendererModel",
          "model_module_version": "^1.1.16",
          "state": {
            "_model_module": "ipydatagrid",
            "_model_module_version": "^1.1.16",
            "_model_name": "TextRendererModel",
            "_view_count": null,
            "_view_module": "ipydatagrid",
            "_view_module_version": "^1.1.16",
            "_view_name": "TextRendererView",
            "background_color": "IPY_MODEL_01af9f5f2f8541d3a9f9ae56e24cb85b",
            "font": "12px sans-serif",
            "format": null,
            "format_type": "number",
            "horizontal_alignment": "IPY_MODEL_e20ad9de0d9f406abbed1e716603c85a",
            "missing": "",
            "text_color": "IPY_MODEL_1e90b8e0226a4c59b5ec6a778145f041",
            "text_elide_direction": "right",
            "text_value": null,
            "text_wrap": false,
            "vertical_alignment": "center"
          }
        },
        "54aa0fd53c134d2ca9ec1d91ba5fe3ca": {
          "model_module": "@jupyter-widgets/base",
          "model_name": "LayoutModel",
          "model_module_version": "1.2.0",
          "state": {
            "_model_module": "@jupyter-widgets/base",
            "_model_module_version": "1.2.0",
            "_model_name": "LayoutModel",
            "_view_count": null,
            "_view_module": "@jupyter-widgets/base",
            "_view_module_version": "1.2.0",
            "_view_name": "LayoutView",
            "align_content": null,
            "align_items": null,
            "align_self": null,
            "border": null,
            "bottom": null,
            "display": null,
            "flex": null,
            "flex_flow": null,
            "grid_area": null,
            "grid_auto_columns": null,
            "grid_auto_flow": null,
            "grid_auto_rows": null,
            "grid_column": null,
            "grid_gap": null,
            "grid_row": null,
            "grid_template_areas": null,
            "grid_template_columns": null,
            "grid_template_rows": null,
            "height": "350px",
            "justify_content": null,
            "justify_items": null,
            "left": null,
            "margin": null,
            "max_height": null,
            "max_width": null,
            "min_height": null,
            "min_width": null,
            "object_fit": null,
            "object_position": null,
            "order": null,
            "overflow": null,
            "overflow_x": null,
            "overflow_y": null,
            "padding": null,
            "right": null,
            "top": null,
            "visibility": null,
            "width": null
          }
        },
        "01af9f5f2f8541d3a9f9ae56e24cb85b": {
          "model_module": "ipydatagrid",
          "model_name": "VegaExprModel",
          "model_module_version": "^1.1.16",
          "state": {
            "_model_module": "ipydatagrid",
            "_model_module_version": "^1.1.16",
            "_model_name": "VegaExprModel",
            "_view_count": null,
            "_view_module": "ipydatagrid",
            "_view_module_version": "^1.1.16",
            "_view_name": "VegaExprView",
            "value": "cell.metadata.column >12 ? '#cfcfcf' : '#ffffff'"
          }
        },
        "e20ad9de0d9f406abbed1e716603c85a": {
          "model_module": "ipydatagrid",
          "model_name": "VegaExprModel",
          "model_module_version": "^1.1.16",
          "state": {
            "_model_module": "ipydatagrid",
            "_model_module_version": "^1.1.16",
            "_model_name": "VegaExprModel",
            "_view_count": null,
            "_view_module": "ipydatagrid",
            "_view_module_version": "^1.1.16",
            "_view_name": "VegaExprView",
            "value": "cell.metadata.column > 2  ? 'center' : 'left'"
          }
        },
        "1e90b8e0226a4c59b5ec6a778145f041": {
          "model_module": "ipydatagrid",
          "model_name": "VegaExprModel",
          "model_module_version": "^1.1.16",
          "state": {
            "_model_module": "ipydatagrid",
            "_model_module_version": "^1.1.16",
            "_model_name": "VegaExprModel",
            "_view_count": null,
            "_view_module": "ipydatagrid",
            "_view_module_version": "^1.1.16",
            "_view_name": "VegaExprView",
            "value": "default_value"
          }
        },
        "64337e2027eb4dd58d621eb5f885b5af": {
          "model_module": "@jupyter-widgets/controls",
          "model_name": "ButtonModel",
          "model_module_version": "1.5.0",
          "state": {
            "_dom_classes": [],
            "_model_module": "@jupyter-widgets/controls",
            "_model_module_version": "1.5.0",
            "_model_name": "ButtonModel",
            "_view_count": null,
            "_view_module": "@jupyter-widgets/controls",
            "_view_module_version": "1.5.0",
            "_view_name": "ButtonView",
            "button_style": "success",
            "description": "Foodchain identified successfully",
            "disabled": false,
            "icon": "check",
            "layout": "IPY_MODEL_a81009b8eeb04f47a9e8da547c1cf424",
            "style": "IPY_MODEL_b057c9991d614fa8aa416e71c5a16385",
            "tooltip": ""
          }
        },
        "a81009b8eeb04f47a9e8da547c1cf424": {
          "model_module": "@jupyter-widgets/base",
          "model_name": "LayoutModel",
          "model_module_version": "1.2.0",
          "state": {
            "_model_module": "@jupyter-widgets/base",
            "_model_module_version": "1.2.0",
            "_model_name": "LayoutModel",
            "_view_count": null,
            "_view_module": "@jupyter-widgets/base",
            "_view_module_version": "1.2.0",
            "_view_name": "LayoutView",
            "align_content": null,
            "align_items": null,
            "align_self": null,
            "border": null,
            "bottom": null,
            "display": null,
            "flex": null,
            "flex_flow": null,
            "grid_area": null,
            "grid_auto_columns": null,
            "grid_auto_flow": null,
            "grid_auto_rows": null,
            "grid_column": null,
            "grid_gap": null,
            "grid_row": null,
            "grid_template_areas": null,
            "grid_template_columns": null,
            "grid_template_rows": null,
            "height": null,
            "justify_content": null,
            "justify_items": null,
            "left": null,
            "margin": null,
            "max_height": null,
            "max_width": null,
            "min_height": null,
            "min_width": null,
            "object_fit": null,
            "object_position": null,
            "order": null,
            "overflow": null,
            "overflow_x": null,
            "overflow_y": null,
            "padding": null,
            "right": null,
            "top": null,
            "visibility": null,
            "width": "500px"
          }
        },
        "b057c9991d614fa8aa416e71c5a16385": {
          "model_module": "@jupyter-widgets/controls",
          "model_name": "ButtonStyleModel",
          "model_module_version": "1.5.0",
          "state": {
            "_model_module": "@jupyter-widgets/controls",
            "_model_module_version": "1.5.0",
            "_model_name": "ButtonStyleModel",
            "_view_count": null,
            "_view_module": "@jupyter-widgets/base",
            "_view_module_version": "1.2.0",
            "_view_name": "StyleView",
            "button_color": null,
            "font_weight": ""
          }
        },
        "427c6d45c01a47929c7689d04f2f096e": {
          "model_module": "@jupyter-widgets/controls",
          "model_name": "HTMLModel",
          "model_module_version": "1.5.0",
          "state": {
            "_dom_classes": [],
            "_model_module": "@jupyter-widgets/controls",
            "_model_module_version": "1.5.0",
            "_model_name": "HTMLModel",
            "_view_count": null,
            "_view_module": "@jupyter-widgets/controls",
            "_view_module_version": "1.5.0",
            "_view_name": "HTMLView",
            "description": "",
            "description_tooltip": null,
            "layout": "IPY_MODEL_22f4592626bd41a3a3a83697222bbdc9",
            "placeholder": "​",
            "style": "IPY_MODEL_1f8e966d85b14caead6a84c57d4767ff",
            "value": "Congratulations, you have successfully built a foodchain!<br>Just select these animals:<ol><li>Mackarel</li> <li>Bigeye Fish</li> <li>White Shark</li> <li>Turtle</li> <li>Bigeye Tuna</li></ol>And select these food sources:<ol><li>Brain Coral</li> <li>Doughnut Coral</li> <li>Red Coral</li></ol>And select a location within these environmental parameters:<ol><li>min_depth: <b>31</b></li><li>max_depth: <b>60</b></li><li>min_temp: <b>28.3</b></li><li>max_temp: <b>30.0</b></li></ol>"
          }
        },
        "5a8c31bcc6b044a2acbf3162dc84a951": {
          "model_module": "@jupyter-widgets/base",
          "model_name": "LayoutModel",
          "model_module_version": "1.2.0",
          "state": {
            "_model_module": "@jupyter-widgets/base",
            "_model_module_version": "1.2.0",
            "_model_name": "LayoutModel",
            "_view_count": null,
            "_view_module": "@jupyter-widgets/base",
            "_view_module_version": "1.2.0",
            "_view_name": "LayoutView",
            "align_content": null,
            "align_items": null,
            "align_self": null,
            "border": null,
            "bottom": null,
            "display": null,
            "flex": null,
            "flex_flow": null,
            "grid_area": null,
            "grid_auto_columns": null,
            "grid_auto_flow": null,
            "grid_auto_rows": null,
            "grid_column": null,
            "grid_gap": null,
            "grid_row": null,
            "grid_template_areas": null,
            "grid_template_columns": null,
            "grid_template_rows": null,
            "height": null,
            "justify_content": null,
            "justify_items": null,
            "left": null,
            "margin": null,
            "max_height": null,
            "max_width": null,
            "min_height": null,
            "min_width": null,
            "object_fit": null,
            "object_position": null,
            "order": null,
            "overflow": null,
            "overflow_x": null,
            "overflow_y": null,
            "padding": null,
            "right": null,
            "top": null,
            "visibility": null,
            "width": null
          }
        },
        "1f8e966d85b14caead6a84c57d4767ff": {
          "model_module": "@jupyter-widgets/controls",
          "model_name": "DescriptionStyleModel",
          "model_module_version": "1.5.0",
          "state": {
            "_model_module": "@jupyter-widgets/controls",
            "_model_module_version": "1.5.0",
            "_model_name": "DescriptionStyleModel",
            "_view_count": null,
            "_view_module": "@jupyter-widgets/base",
            "_view_module_version": "1.2.0",
            "_view_name": "StyleView",
            "description_width": ""
          }
        },
        "4906c7dc54b24e83a03eb04ce8f0c2e1": {
          "model_module": "ipydatagrid",
          "model_name": "TextRendererModel",
          "model_module_version": "^1.1.16",
          "state": {
            "_model_module": "ipydatagrid",
            "_model_module_version": "^1.1.16",
            "_model_name": "TextRendererModel",
            "_view_count": null,
            "_view_module": "ipydatagrid",
            "_view_module_version": "^1.1.16",
            "_view_name": "TextRendererView",
            "background_color": "IPY_MODEL_3eb0d8407f5f4515b7e2afee1ad8b9e6",
            "font": "12px sans-serif",
            "format": null,
            "format_type": "number",
            "horizontal_alignment": "IPY_MODEL_1c184c7cce5a46bc92ba01d902c3b26f",
            "missing": "",
            "text_color": "IPY_MODEL_0b1151b1d0e54f9b97aa63c00276e63f",
            "text_elide_direction": "right",
            "text_value": null,
            "text_wrap": false,
            "vertical_alignment": "center"
          }
        },
        "22f4592626bd41a3a3a83697222bbdc9": {
          "model_module": "@jupyter-widgets/base",
          "model_name": "LayoutModel",
          "model_module_version": "1.2.0",
          "state": {
            "_model_module": "@jupyter-widgets/base",
            "_model_module_version": "1.2.0",
            "_model_name": "LayoutModel",
            "_view_count": null,
            "_view_module": "@jupyter-widgets/base",
            "_view_module_version": "1.2.0",
            "_view_name": "LayoutView",
            "align_content": null,
            "align_items": null,
            "align_self": null,
            "border": null,
            "bottom": null,
            "display": null,
            "flex": null,
            "flex_flow": null,
            "grid_area": null,
            "grid_auto_columns": null,
            "grid_auto_flow": null,
            "grid_auto_rows": null,
            "grid_column": null,
            "grid_gap": null,
            "grid_row": null,
            "grid_template_areas": null,
            "grid_template_columns": null,
            "grid_template_rows": null,
            "height": null,
            "justify_content": null,
            "justify_items": null,
            "left": null,
            "margin": null,
            "max_height": null,
            "max_width": null,
            "min_height": null,
            "min_width": null,
            "object_fit": null,
            "object_position": null,
            "order": null,
            "overflow": null,
            "overflow_x": null,
            "overflow_y": null,
            "padding": null,
            "right": "0px",
            "top": "0px",
            "visibility": null,
            "width": "500px"
          }
        },
        "3eb0d8407f5f4515b7e2afee1ad8b9e6": {
          "model_module": "ipydatagrid",
          "model_name": "VegaExprModel",
          "model_module_version": "^1.1.16",
          "state": {
            "_model_module": "ipydatagrid",
            "_model_module_version": "^1.1.16",
            "_model_name": "VegaExprModel",
            "_view_count": null,
            "_view_module": "ipydatagrid",
            "_view_module_version": "^1.1.16",
            "_view_name": "VegaExprView",
            "value": "cell.metadata.data['food_source'] == 'Mackarel' | cell.metadata.data['food_source'] == 'Bigeye Fish' | cell.metadata.data['food_source'] == 'White Shark' | cell.metadata.data['food_source'] == 'Turtle' | cell.metadata.data['food_source'] == 'Bigeye Tuna' ? '#a1c9f4' : '#ffffff'"
          }
        },
        "1c184c7cce5a46bc92ba01d902c3b26f": {
          "model_module": "ipydatagrid",
          "model_name": "VegaExprModel",
          "model_module_version": "^1.1.16",
          "state": {
            "_model_module": "ipydatagrid",
            "_model_module_version": "^1.1.16",
            "_model_name": "VegaExprModel",
            "_view_count": null,
            "_view_module": "ipydatagrid",
            "_view_module_version": "^1.1.16",
            "_view_name": "VegaExprView",
            "value": "cell.metadata.column > 2  ? 'center' : 'left'"
          }
        },
        "0b1151b1d0e54f9b97aa63c00276e63f": {
          "model_module": "ipydatagrid",
          "model_name": "VegaExprModel",
          "model_module_version": "^1.1.16",
          "state": {
            "_model_module": "ipydatagrid",
            "_model_module_version": "^1.1.16",
            "_model_name": "VegaExprModel",
            "_view_count": null,
            "_view_module": "ipydatagrid",
            "_view_module_version": "^1.1.16",
            "_view_name": "VegaExprView",
            "value": "default_value"
          }
        }
      }
    }
  },
  "cells": [
    {
      "cell_type": "markdown",
      "metadata": {
        "id": "view-in-github",
        "colab_type": "text"
      },
      "source": [
        "<a href=\"https://colab.research.google.com/github/anushkamadiwale04/Face-Recognition-in-Python/blob/main/ecosystem_solver_shared.ipynb\" target=\"_parent\"><img src=\"https://colab.research.google.com/assets/colab-badge.svg\" alt=\"Open In Colab\"/></a>"
      ]
    },
    {
      "cell_type": "code",
      "execution_count": null,
      "metadata": {
        "colab": {
          "base_uri": "https://localhost:8080/",
          "height": 273,
          "referenced_widgets": [
            "ebd2273d58ea4f41acb02943e31f39cf",
            "5e19c6b50257471f876198b17f0964a4",
            "b334a487824a4e45a10e83692dda5ce5",
            "57a5dd8ea0bf4568ac55dca4a53ffd8c",
            "71137e3c138b45ac9263c07b03da9350",
            "9a743e6b94304c8b8d0aaf8e1cad6a57",
            "5b99560e730849feab9dea9e0b4699a6",
            "28d387bdc7ee4197916523e23f8565b7",
            "cfdd2896b9ce41ada8abf7434d6574e3",
            "fee0e710bb3943ecac59071921742c6a",
            "cb9a53f57fc243b494b8ba75b56c2e3c",
            "11e88584cbdf40b3a913ba526c405a60",
            "3bf6a832610c49649937197d4ae7793a",
            "3d2cd0b92b3f492ba285209f87735ad6",
            "115f2bb82ae34bd19d5336e25f81350e",
            "7f0cce70e7314dc6a79909cf9746808d",
            "e8fb9bed28064079b16a374ec224281f",
            "bfc3f981236846f4a2b4a2dca11ce73c"
          ]
        },
        "id": "_G4la3aG42Ja",
        "outputId": "cff39767-5749-4b81-f4a1-df9f81edb0d4"
      },
      "outputs": [
        {
          "output_type": "display_data",
          "data": {
            "text/plain": [
              "Button(description='Use demo data', icon='clone', style=ButtonStyle(), tooltip='Use demo data')"
            ],
            "application/vnd.jupyter.widget-view+json": {
              "version_major": 2,
              "version_minor": 0,
              "model_id": "ebd2273d58ea4f41acb02943e31f39cf"
            }
          },
          "metadata": {
            "application/vnd.jupyter.widget-view+json": {
              "colab": {
                "custom_widget_manager": {
                  "url": "https://ssl.gstatic.com/colaboratory-static/widgets/colab-cdn-widget-manager/b3e629b1971e1542/manager.min.js"
                }
              }
            }
          }
        },
        {
          "output_type": "display_data",
          "data": {
            "text/plain": [
              "Label(value='Which ecosystem to solve:')"
            ],
            "application/vnd.jupyter.widget-view+json": {
              "version_major": 2,
              "version_minor": 0,
              "model_id": "57a5dd8ea0bf4568ac55dca4a53ffd8c"
            }
          },
          "metadata": {
            "application/vnd.jupyter.widget-view+json": {
              "colab": {
                "custom_widget_manager": {
                  "url": "https://ssl.gstatic.com/colaboratory-static/widgets/colab-cdn-widget-manager/b3e629b1971e1542/manager.min.js"
                }
              }
            }
          }
        },
        {
          "output_type": "display_data",
          "data": {
            "text/plain": [
              "RadioButtons(options=('ocean', 'mountain'), value='ocean')"
            ],
            "application/vnd.jupyter.widget-view+json": {
              "version_major": 2,
              "version_minor": 0,
              "model_id": "5b99560e730849feab9dea9e0b4699a6"
            }
          },
          "metadata": {
            "application/vnd.jupyter.widget-view+json": {
              "colab": {
                "custom_widget_manager": {
                  "url": "https://ssl.gstatic.com/colaboratory-static/widgets/colab-cdn-widget-manager/b3e629b1971e1542/manager.min.js"
                }
              }
            }
          }
        },
        {
          "output_type": "display_data",
          "data": {
            "text/plain": [
              "Label(value='The names of the foodsources (separated by semikolon):')"
            ],
            "application/vnd.jupyter.widget-view+json": {
              "version_major": 2,
              "version_minor": 0,
              "model_id": "fee0e710bb3943ecac59071921742c6a"
            }
          },
          "metadata": {
            "application/vnd.jupyter.widget-view+json": {
              "colab": {
                "custom_widget_manager": {
                  "url": "https://ssl.gstatic.com/colaboratory-static/widgets/colab-cdn-widget-manager/b3e629b1971e1542/manager.min.js"
                }
              }
            }
          }
        },
        {
          "output_type": "display_data",
          "data": {
            "text/plain": [
              "Textarea(value='', layout=Layout(height='80px', width='500px'), placeholder='List the foodsource names separat…"
            ],
            "application/vnd.jupyter.widget-view+json": {
              "version_major": 2,
              "version_minor": 0,
              "model_id": "3bf6a832610c49649937197d4ae7793a"
            }
          },
          "metadata": {
            "application/vnd.jupyter.widget-view+json": {
              "colab": {
                "custom_widget_manager": {
                  "url": "https://ssl.gstatic.com/colaboratory-static/widgets/colab-cdn-widget-manager/b3e629b1971e1542/manager.min.js"
                }
              }
            }
          }
        },
        {
          "output_type": "display_data",
          "data": {
            "text/plain": [
              "Button(description='Check Input', layout=Layout(width='500px'), style=ButtonStyle())"
            ],
            "application/vnd.jupyter.widget-view+json": {
              "version_major": 2,
              "version_minor": 0,
              "model_id": "7f0cce70e7314dc6a79909cf9746808d"
            }
          },
          "metadata": {
            "application/vnd.jupyter.widget-view+json": {
              "colab": {
                "custom_widget_manager": {
                  "url": "https://ssl.gstatic.com/colaboratory-static/widgets/colab-cdn-widget-manager/b3e629b1971e1542/manager.min.js"
                }
              }
            }
          }
        }
      ],
      "source": [
        "# INTERACTIVE ECOSYSTEM BUILDING TOOL\n",
        "\n",
        "# This code defines an interactive tool for building a food chain within a specified ecosystem.\n",
        "# Users can select the ecosystem (ocean or mountain), list food source names, set food source parameters,\n",
        "# pick the most promising parameter range, list animal names, and set animal parameters.\n",
        "# The tool then evaluates various combinations to find a sustainable food chain that meets the specified conditions.\n",
        "# It uses interactive widgets and data visualization to guide users through the process.\n",
        "\n",
        "# --------------- GAME RULES ---------------\n",
        "# §1: Species with the highest calorie value consume first, followed by the second-highest, and so on.\n",
        "# §2: While eating, species with the highest calorie value are consumed first.\n",
        "# §3: In case of food source ties, required calories are divided equally among them.\n",
        "# §4: Consuming reduces the calories provided by the same amount as the consuming species' needs.\n",
        "# §5: If a food source is insufficient, the species eats the second-highest calorie food source.\n",
        "#     Note: This rule should never lead to extinction as per important note.\n",
        "# §6: A species survives if its required calories are met and provided calories are above zero.\n",
        "\n",
        "# --------------- INSTRUCTIONS ---------------\n",
        "# Run the first code block by clicking in it and pressing [ctrl]+[enter]\n",
        "# Fill in the required information in the form which appears under the code block\n",
        "# Continue like this for the other codeblocks. There are 4 input forms in total.\n",
        "\n",
        "# --------------- AUTHOR ---------------\n",
        "# Author: Matthias Standfest\n",
        "# Date: Aug 10th 2023\n",
        "# LinkedIn: https://www.linkedin.com/in/standfest/\n",
        "\n",
        "# --------------- LICENSE ---------------\n",
        "# The code of this notebook is subject to the terms of the AGPL v3 license.\n",
        "# You can find the full license text at https://www.gnu.org/licenses/agpl-3.0.en.html\n",
        "\n",
        "# --------------- REQUIREMENTS ---------------\n",
        "# - ipydatagrid: A widget library for creating interactive data grids.\n",
        "# - ipywidgets: Interactive HTML widgets for Jupyter notebooks.\n",
        "# - seaborn: A data visualization library based on Matplotlib.\n",
        "# - pandas: A data manipulation and analysis library.\n",
        "# - itertools: A module for efficient looping and combinations.\n",
        "\n",
        "import seaborn as sns # Visualization library\n",
        "import pandas as pd # Data manipulation library\n",
        "from itertools import combinations # Combinations generator\n",
        "import copy  # For deep copying data structures\n",
        "import ipywidgets as widgets  # Interactive widget library https://ipywidgets.readthedocs.io/en/latest/examples/Widget%20Events.html\n",
        "from IPython.display import display, Javascript  # Display library function\n",
        "from google.colab import output  # For custom widget management in Colab\n",
        "output.enable_custom_widget_manager() # Enable custom widget manager\n",
        "try:\n",
        "    import ipydatagrid #https://github.com/bloomberg/ipydatagrid\n",
        "except:\n",
        "    !pip install -q ipydatagrid  # Install ipydatagrid on Colab server\n",
        "    from ipydatagrid import DataGrid, TextRenderer, VegaExpr # Load libraries\n",
        "\n",
        "\n",
        "# Constants for visual representation\n",
        "CELL_BACKGROUND_COLORS = sns.color_palette(\"pastel\").as_hex() #using a generic color palette for the outputs\n",
        "USE_FIRST_SOLUTION_ONLY = True # If True, fastest result is provided; else, all versions are generated\n",
        "\n",
        "# Game parameters\n",
        "MIN_COUNT_FOODSOURCES = 9 #number of inputs provided by game interface\n",
        "MIN_COUNT_ANIMALS = 10 #number of inputs provided by game interface\n",
        "MIN_COUNT_SELECTED_ANIMALS = 5 # Minimum number of selected animals required for simulation and to pass the game\n",
        "\n",
        "# Predefined demo data for quick testing and for functionality test\n",
        "DEMO_FOODSOURCES_NAMES='Acro Coral;Brain Coral;Doughnut Coral;Giant Kelp;Hammer Coral;Red Coral;Red Seaweed;Seaweed;Stylophora'\n",
        "DEMO_ANIMALS_NAMES='Bigeye Fish;Bigeye Tuna;Cod;Dotted Fish;Killer Whale;Lionfish;Mackarel;Turtle;Violet Fish;White Shark'\n",
        "DEMO_ECOSYSTEM='ocean'\n",
        "DEMO_FOODSOURCE_DATA = pd.DataFrame({\n",
        "    \"food_source\":['Acro Coral','Brain Coral','Doughnut Coral','Giant Kelp','Hammer Coral','Red Coral','Red Seaweed','Seaweed','Stylophora'],\n",
        "    \"min_depth\":[61,31,31,0,61,31,0,0,61],\n",
        "    \"max_depth\":[90,60,60,30,90,60,30,30,90],\n",
        "    \"min_temp\":[26.7,28.3,28.3,30.1,26.7,28.3,30.1,30.1,26.7],\n",
        "    \"max_temp\":[28.2,30,30,31.5,28.2,30,31.5,31.5,28.2],\n",
        "    \"cal_provided\":[4400,4600,4700,4150,4300,5050,5100,4800,4400],\n",
        "    \"is_poisonous\":[0,0,0,0,0,0,0,0,0]}\n",
        "    )\n",
        "DEMO_ANIMAL_DATA = pd.DataFrame({\n",
        "    \"food_source\":['Bigeye Fish','Bigeye Tuna','Cod','Dotted Fish','Killer Whale','Lionfish','Mackarel','Turtle','Violet Fish','White Shark'],\n",
        "    \"cal_provided\":[3150,650,2100,2200,3100,1650,3650,1100,1500,1800],\n",
        "    \"cal_needed\":[3200,1600,5600,4500,2200,2500,4300,2600,4200,1300],\n",
        "    'Bigeye Fish':[0,\t1,\t0,\t0,\t0,\t0,\t0,\t0,\t0,\t1],\n",
        "    'Bigeye Tuna':[0,\t0,\t0,\t0,\t0,\t0,\t0,\t0,\t0,\t0],\n",
        "    'Cod':[0,\t0,\t0,\t0,\t0,\t0,\t0,\t0,\t0,\t0],\n",
        "    'Dotted Fish':[1,\t0,\t0,\t0,\t1,\t1,\t0,\t0,\t0,\t0],\n",
        "    'Killer Whale':[0,\t0,\t0,\t0,\t0,\t0,\t0,\t0,\t0,\t0],\n",
        "    'Lionfish':[0,\t0,\t0,\t0,\t0,\t0,\t0,\t0,\t0,\t0],\n",
        "    'Mackarel':[1,\t0,\t1,\t0,\t0,\t0,\t0,\t0,\t0,\t0],\n",
        "    'Turtle':[1,\t0,\t0,\t0,\t0,\t0,\t0,\t0,\t0,\t0],\n",
        "    'Violet Fish':[0,\t0,\t1,\t0,\t1,\t0,\t0,\t0,\t0,\t0],\n",
        "    'White Shark':[0,\t0,\t0,\t0,\t0,\t0,\t0,\t0,\t0,\t0],\n",
        "    'Brain Coral':[0,\t0,\t0,\t0,\t0,\t0,\t1,\t0,\t0,\t0],\n",
        "    'Doughnut Coral':[0,\t0,\t0,\t0,\t0,\t0,\t1,\t1,\t1,\t0],\n",
        "    'Red Coral':[0,\t0,\t0,\t1,\t0,\t0,\t1,\t0,\t1,\t0],\n",
        "    }\n",
        "    )\n",
        "DEMO_FAILURE_SELECTION = [True,True,True,True,True,False,False,False,False,False] #test selection to generate failure\n",
        "DEMO_SUCCESS_SELECTION = [True,True,False,False,False,True,False,False,True,True] #test selection to generate success\n",
        "\n",
        "# --------------- MATHEMATICAL CONCEPT ---------------\n",
        "# When drawing 5 out of 10 items without replacement, the number of different combinations\n",
        "# can be calculated using the binomial coefficient formula, also known as \"n choose k.\" The formula is given by:\n",
        "#\n",
        "# C(n, k) = n! / (k! * (n - k)!)\n",
        "#\n",
        "# n is the total number of items (10 in this case)\n",
        "# k is the number of items to be drawn (5 in this case)\n",
        "# n! represents the factorial of n (n * (n - 1) * (n - 2) * ... * 1)\n",
        "# k! represents the factorial of k\n",
        "# (n - k)! represents the factorial of (n - k)\n",
        "# Using this formula, the number of different combinations when drawing 5 out of 10 without replacement is:\n",
        "#\n",
        "# C(10, 5) = 10! / (5! * (10 - 5)!) = 252\n",
        "#\n",
        "# So, there are 252 different combinations when drawing 5 out of 10 items without replacement.\n",
        "\n",
        "# DECISION:\n",
        "# While generally using DEAP to optimise tasks like this foodchain-building would be implemented in a production\n",
        "# environment, loading the library would take more time than brute forcing this very specific case. Hence we can\n",
        "# generate all the possible solutions upfront.\n",
        "# ------------------------------------------------------\n",
        "\n",
        "# Generate all combinations of drawing k items out of n\n",
        "ALL_POSSIBLE_COMBINATIONS = list(combinations(range(MIN_COUNT_ANIMALS), MIN_COUNT_SELECTED_ANIMALS))\n",
        "\n",
        "\n",
        "# GENERATE INTERACTIVE FORM 1 OF 4\n",
        "\n",
        "screen1_ecosystem_picker_caption = widgets.Label(\n",
        "    value='Which ecosystem to solve:'\n",
        "    )\n",
        "\n",
        "screen1_ecosystem_picker = widgets.RadioButtons(\n",
        "    options=['ocean', 'mountain'],\n",
        "    disabled=False\n",
        ")\n",
        "\n",
        "screen1_foodsources_namelist_caption = widgets.Label(\n",
        "    value='The names of the foodsources (separated by semikolon):'\n",
        "    )\n",
        "\n",
        "screen1_foodsources_namelist = widgets.Textarea(\n",
        "  placeholder='List the foodsource names separated by semikolon',\n",
        "  disabled=False,\n",
        "  layout=widgets.Layout(width='500px', height='80px')\n",
        ")\n",
        "\n",
        "screen1_use_demodata = widgets.Button(\n",
        "    description='Use demo data',\n",
        "    disabled=False,\n",
        "    button_style='', # 'success', 'info', 'warning', 'danger' or ''\n",
        "    tooltip='Use demo data',\n",
        "    icon='clone', # (FontAwesome names without the `fa-` prefix)\n",
        ")\n",
        "\n",
        "screen1_status = widgets.Button(\n",
        "    description='Check Input',\n",
        "    disabled=False,\n",
        "    button_style='', # 'success', 'info', 'warning', 'danger' or ''\n",
        "    tooltip='',\n",
        "    icon='', # (FontAwesome names without the `fa-` prefix)\n",
        "    layout=widgets.Layout(width='500px')\n",
        ")\n",
        "\n",
        "# Display interactive elements on the screen\n",
        "display(screen1_use_demodata,screen1_ecosystem_picker_caption, screen1_ecosystem_picker, screen1_foodsources_namelist_caption, screen1_foodsources_namelist, screen1_status)\n",
        "\n",
        "# Callback function to populate fields with demo data\n",
        "def on_click_screen1_use_demodata(e):\n",
        "  screen1_foodsources_namelist.value=DEMO_FOODSOURCES_NAMES\n",
        "  screen1_ecosystem_picker.value=DEMO_ECOSYSTEM\n",
        "  screen1_status.description='Check Input'\n",
        "  screen1_status.button_style='' # 'success', 'info', 'warning', 'danger' or ''\n",
        "  screen1_status.icon='' # (FontAwesome names without the `fa-` prefix)\n",
        "\n",
        "# Callback function to validate food source input and update status button\n",
        "def on_click_screen1_status(e):\n",
        "  if len(screen1_foodsources_namelist.value.split(';'))>=MIN_COUNT_FOODSOURCES:\n",
        "    screen1_status.description='Food sources listed successfully. Run next Cell now.'\n",
        "    screen1_status.button_style='success' # 'success', 'info', 'warning', 'danger' or ''\n",
        "    screen1_status.icon='check' # (FontAwesome names without the `fa-` prefix)\n",
        "  else:\n",
        "    screen1_status.description='Not enough food sources listed! Add more.'\n",
        "    screen1_status.button_style='danger' # 'success', 'info', 'warning', 'danger' or ''\n",
        "    screen1_status.icon='times' # (FontAwesome names without the `fa-` prefix)\n",
        "\n",
        "# Attach callback functions to button clicks\n",
        "screen1_use_demodata.on_click(on_click_screen1_use_demodata)\n",
        "screen1_status.on_click(on_click_screen1_status)"
      ]
    },
    {
      "cell_type": "code",
      "source": [
        "# Split the input food source names separated by semicolon\n",
        "foodsource_names = screen1_foodsources_namelist.value.split(';')\n",
        "\n",
        "# Determine the altitude suffix based on ecosystem selection\n",
        "altitude_suffix = \"height\" if screen1_ecosystem_picker.value == \"mountain\" else \"depth\"\n",
        "\n",
        "# Create an empty DataFrame to store food source information\n",
        "foodsource_empty = pd.DataFrame({\n",
        "    \"food_source\":foodsource_names,\n",
        "    \"min_\"+altitude_suffix:[0]*len(foodsource_names),\n",
        "    \"max_\"+altitude_suffix:[0]*len(foodsource_names),\n",
        "    \"min_temp\":[0]*len(foodsource_names),\n",
        "    \"max_temp\":[0]*len(foodsource_names),\n",
        "    \"cal_provided\":[0]*len(foodsource_names),\n",
        "    \"is_poisonous\":[0]*len(foodsource_names)}\n",
        "    )\n",
        "\n",
        "# GENERATE INTERACTIVE FORM 2 OF 4\n",
        "\n",
        "screen2_foodsource_input = DataGrid(\n",
        "    foodsource_empty,\n",
        "    selection_mode=\"cell\",\n",
        "    grid_style={\"void_color\": \"#383838\"},\n",
        "    layout={\"height\": \"320px\"},\n",
        "    base_row_size=32,\n",
        "    base_column_size=150,\n",
        "    editable=True\n",
        "    )\n",
        "\n",
        "screen2_use_demodata = widgets.Button(\n",
        "    description='Use demo data',\n",
        "    disabled=False,\n",
        "    button_style='', # 'success', 'info', 'warning', 'danger' or ''\n",
        "    tooltip='Use demo data',\n",
        "    icon='clone', # (FontAwesome names without the `fa-` prefix)\n",
        ")\n",
        "\n",
        "screen2_status = widgets.Button(\n",
        "    description='Run next cell once you have entered all the parameters.',\n",
        "    disabled=False,\n",
        "    button_style='', # 'success', 'info', 'warning', 'danger' or ''\n",
        "    tooltip='',\n",
        "    icon='', # (FontAwesome names without the `fa-` prefix)\n",
        "    layout=widgets.Layout(width='500px')\n",
        ")\n",
        "\n",
        "screen2_foodsource_input_caption = widgets.Label(\n",
        "    value='Fill in the missing parameters of the food sources:'\n",
        "    )\n",
        "\n",
        "screen2_status_message = widgets.HTML(\n",
        "    value=' '\n",
        "    )\n",
        "\n",
        "# Display interactive elements on the screen\n",
        "display(screen2_use_demodata,screen2_foodsource_input_caption,screen2_foodsource_input, screen2_status, screen2_status_message)\n",
        "\n",
        "# Callback function to populate DataGrid with demo data\n",
        "def on_click_screen2_use_demodata(e):\n",
        "  screen2_foodsource_input.data = DEMO_FOODSOURCE_DATA\n",
        "  screen2_status_message.value = ''\n",
        "  screen2_status.description = 'Run next cell once you have entered all the parameters.'\n",
        "  screen2_status.button_style=''\n",
        "\n",
        "# Attach callback function to demo data button click\n",
        "screen2_use_demodata.on_click(on_click_screen2_use_demodata)"
      ],
      "metadata": {
        "colab": {
          "base_uri": "https://localhost:8080/",
          "height": 589,
          "referenced_widgets": [
            "bf50f728e31d47c1b6f816db047ab8c2",
            "5ee0afa144af4d58a417944dbcab9c36",
            "0bed0c948fcc48ab983a1a649a761b99",
            "98bf2486d0714b00959b89f071e306cd",
            "8ff43fc94dbc4f2c96b9c9a4e54f4c63",
            "24764057cc684560a10a21bc8bc52db0",
            "1fcc1d7e666b4ae3927ee2ade246e72e",
            "e012707013c54154bf54f97f21aa4699",
            "3797eb647a6c4cce81fc17fbc05152d7",
            "3b8a9c95da84405d9c058f692f87f65a",
            "6cacd02d10344c08b6aacfe00216efc4",
            "55730699323f415c8f978ee29c550646",
            "bc5963b8f3d9435e91df428a6705ff23",
            "d020af7584cc4ad8a43bf19be50bf9aa",
            "f12979c8ed894bfd9707ba1eb62b1656",
            "87da112506684a819ac1de1b4a739acd",
            "c4679d6416084cc0a1aa13775b5304b7",
            "a53f461b244d40108d877cc84b5e20b4",
            "00b8b5dcf72d4495a03dd0d497fed8e9",
            "c6e792a4465947a282fb3dab3d27dfa9",
            "f8f633c00a91467db2f219e225f58c55",
            "d4bb0d68c2874de9939272086e989c44",
            "5dd38c3b0d634dc7be0948d894d425d5",
            "f7617a118e504f608177c3ba42d9b447",
            "e055c1f7cfea4ab8a50cbf79f8434396",
            "4e11f4ad59ae444595af57d5a77d0eff",
            "d993a4b331d241898571da34ad8bf19e",
            "e205df1b8eb64a4992a97cdf49a60990",
            "c3fb74fd32c7450786c0d01e39db3d04",
            "294b5777b887446f97e79d3392b8189c",
            "09336a37b43b4d40be2637b551ebcf05",
            "b26b38ecf8b64a1190e5aec5eea5ee95"
          ]
        },
        "id": "0mEvXL-QgPNb",
        "outputId": "53dd5f19-4199-4544-f8ef-0a9172ccd3e0"
      },
      "execution_count": null,
      "outputs": [
        {
          "output_type": "display_data",
          "data": {
            "text/plain": [
              "Button(description='Use demo data', icon='clone', style=ButtonStyle(), tooltip='Use demo data')"
            ],
            "application/vnd.jupyter.widget-view+json": {
              "version_major": 2,
              "version_minor": 0,
              "model_id": "bf50f728e31d47c1b6f816db047ab8c2"
            }
          },
          "metadata": {
            "application/vnd.jupyter.widget-view+json": {
              "colab": {
                "custom_widget_manager": {
                  "url": "https://ssl.gstatic.com/colaboratory-static/widgets/colab-cdn-widget-manager/b3e629b1971e1542/manager.min.js"
                }
              }
            }
          }
        },
        {
          "output_type": "display_data",
          "data": {
            "text/plain": [
              "Label(value='Fill in the missing parameters of the food sources:')"
            ],
            "application/vnd.jupyter.widget-view+json": {
              "version_major": 2,
              "version_minor": 0,
              "model_id": "98bf2486d0714b00959b89f071e306cd"
            }
          },
          "metadata": {
            "application/vnd.jupyter.widget-view+json": {
              "colab": {
                "custom_widget_manager": {
                  "url": "https://ssl.gstatic.com/colaboratory-static/widgets/colab-cdn-widget-manager/b3e629b1971e1542/manager.min.js"
                }
              }
            }
          }
        },
        {
          "output_type": "display_data",
          "data": {
            "text/plain": [
              "DataGrid(auto_fit_params={'area': 'all', 'padding': 30, 'numCols': None}, base_column_size=150, base_row_size=…"
            ],
            "application/vnd.jupyter.widget-view+json": {
              "version_major": 2,
              "version_minor": 0,
              "model_id": "1fcc1d7e666b4ae3927ee2ade246e72e"
            }
          },
          "metadata": {
            "application/vnd.jupyter.widget-view+json": {
              "colab": {
                "custom_widget_manager": {
                  "url": "https://ssl.gstatic.com/colaboratory-static/widgets/colab-cdn-widget-manager/b3e629b1971e1542/manager.min.js"
                }
              }
            }
          }
        },
        {
          "output_type": "display_data",
          "data": {
            "text/plain": [
              "Button(description='Run next cell once you have entered all the parameters.', layout=Layout(width='500px'), st…"
            ],
            "application/vnd.jupyter.widget-view+json": {
              "version_major": 2,
              "version_minor": 0,
              "model_id": "55730699323f415c8f978ee29c550646"
            }
          },
          "metadata": {
            "application/vnd.jupyter.widget-view+json": {
              "colab": {
                "custom_widget_manager": {
                  "url": "https://ssl.gstatic.com/colaboratory-static/widgets/colab-cdn-widget-manager/b3e629b1971e1542/manager.min.js"
                }
              }
            }
          }
        },
        {
          "output_type": "display_data",
          "data": {
            "text/plain": [
              "HTML(value=' ')"
            ],
            "application/vnd.jupyter.widget-view+json": {
              "version_major": 2,
              "version_minor": 0,
              "model_id": "f12979c8ed894bfd9707ba1eb62b1656"
            }
          },
          "metadata": {
            "application/vnd.jupyter.widget-view+json": {
              "colab": {
                "custom_widget_manager": {
                  "url": "https://ssl.gstatic.com/colaboratory-static/widgets/colab-cdn-widget-manager/b3e629b1971e1542/manager.min.js"
                }
              }
            }
          }
        }
      ]
    },
    {
      "cell_type": "code",
      "source": [
        "# ECOSYSTEM IDENTIFICATION PROCESS\n",
        "# identify the ecosystem paramaters which lead to the maximum cal for the foodchain\n",
        "\n",
        "# Filter the foodsource DataFrame based on 'is_poisonous' condition (cannot be used for the foodchain)\n",
        "useable_foodsources = screen2_foodsource_input.data[screen2_foodsource_input.data['is_poisonous'] == 0]\n",
        "\n",
        "# Group by the specified columns and calculate the sum and count of 'cal_provided'\n",
        "grouped_foodsources = useable_foodsources.groupby([\n",
        "    \"min_\" + altitude_suffix,\n",
        "    \"max_\" + altitude_suffix,\n",
        "    \"min_temp\",\n",
        "    \"max_temp\"\n",
        "])['cal_provided'].agg(['sum', 'count'])\n",
        "\n",
        "# Sort the grouped data by 'sum' column in descending order\n",
        "sorted_grouped_foodsources = grouped_foodsources.sort_values(by='sum', ascending=False)\n",
        "\n",
        "# Extract the best ecosystem parameters based on highest caloric value\n",
        "best_ecosystem_parameters = sorted_grouped_foodsources.index[0]\n",
        "\n",
        "# Define conditions for filtering food sources based on best parameters\n",
        "condition_min_height = screen2_foodsource_input.data[\"min_\"+altitude_suffix] == best_ecosystem_parameters[0]\n",
        "condition_max_height = screen2_foodsource_input.data[\"max_\"+altitude_suffix] == best_ecosystem_parameters[1]\n",
        "condition_min_temp = screen2_foodsource_input.data[\"min_temp\"] == best_ecosystem_parameters[2]\n",
        "condition_max_temp = screen2_foodsource_input.data[\"max_temp\"] == best_ecosystem_parameters[3]\n",
        "\n",
        "# Combine the conditions using the '&' operator\n",
        "combined_condition = (\n",
        "    condition_min_height &\n",
        "    condition_max_height &\n",
        "    condition_min_temp &\n",
        "    condition_max_temp\n",
        ")\n",
        "\n",
        "# Use .loc to filter the DataFrame based on the conditions and get the keys of the foodsources with the highest calories\n",
        "best_foodsource_keys = screen2_foodsource_input.data.index[combined_condition].tolist()\n",
        "\n",
        "# Define renderer to highlight rows corresponding to best food sources\n",
        "highlight_best_foodsources = TextRenderer(\n",
        "    background_color=VegaExpr(\n",
        "        \"cell.metadata.row == \"+str(best_foodsource_keys[0])+\" | cell.metadata.row == \"+str(best_foodsource_keys[1])+\" | cell.metadata.row == \"+str(best_foodsource_keys[2])+\" ? '\"+CELL_BACKGROUND_COLORS[0]+\"' : '#ffffff'\"\n",
        "    )\n",
        ")\n",
        "\n",
        "# Register renderer with the DataGrid\n",
        "screen2_foodsource_input.default_renderer=highlight_best_foodsources\n",
        "\n",
        "# Update status button to indicate successful ecosystem identification\n",
        "screen2_status.description='Ecosystem successfully identified'\n",
        "screen2_status.button_style='success' # 'success', 'info', 'warning', 'danger' or ''\n",
        "screen2_status.tooltip='Ecosystem successfully identified'\n",
        "screen2_status.icon='check' # (FontAwesome names without the `fa-` prefix)\n",
        "\n",
        "# Calculate the sum of caloric values for best food sources\n",
        "sum_cal_best_foodsources = sorted_grouped_foodsources.iloc[0,0]\n",
        "environmental_parameters_best_foodsources = sorted_grouped_foodsources.index[0]\n",
        "\n",
        "# Create status text message content\n",
        "screen2_status_message_content = (\n",
        "    f\"Only pick animals with these environmental conditions:<br><ul>\"\n",
        "    f\"<li>min_{altitude_suffix}: <b>{environmental_parameters_best_foodsources[0]}</b></li>\"\n",
        "    f\"<li>max_{altitude_suffix}: <b>{environmental_parameters_best_foodsources[1]}</b></li>\"\n",
        "    f\"<li>min_temp: <b>{environmental_parameters_best_foodsources[2]}</b></li>\"\n",
        "    f\"<li>max_temp: <b>{environmental_parameters_best_foodsources[3]}</b></li>\"\n",
        "    f\"</ul>\"# this could be added here: In total, foodscources in this are can produce <u><b>{foodsource_cal_sum}</b></u> cal.\"\n",
        ")\n",
        "\n",
        "# Set caption to the status text message\n",
        "screen2_status_message.value = screen2_status_message_content\n",
        "\n",
        "# GENERATE INTERACTIVE FORM 3 OF 4\n",
        "\n",
        "screen3_animals_namelist_caption = widgets.Label(\n",
        "    value='The names of the animals of the chosen ecosystem (separated by semikolon):'\n",
        "    )\n",
        "\n",
        "screen3_animals_namelist = widgets.Textarea(\n",
        "  placeholder='List the foodsource names separated by semikolon',\n",
        "  disabled=False,\n",
        "  layout=widgets.Layout(width='500px', height='80px')\n",
        ")\n",
        "\n",
        "screen3_use_demodata = widgets.Button(\n",
        "    description='Use demo data',\n",
        "    disabled=False,\n",
        "    button_style='', # 'success', 'info', 'warning', 'danger' or ''\n",
        "    tooltip='Use demo data',\n",
        "    icon='clone', # (FontAwesome names without the `fa-` prefix)\n",
        ")\n",
        "\n",
        "screen3_status = widgets.Button(\n",
        "    description='Check Input',\n",
        "    disabled=False,\n",
        "    button_style='', # 'success', 'info', 'warning', 'danger' or ''\n",
        "    tooltip='',\n",
        "    icon='', # (FontAwesome names without the `fa-` prefix)\n",
        "    layout=widgets.Layout(width='500px')\n",
        ")\n",
        "\n",
        "# Display interactive elements on the screen\n",
        "display(screen3_use_demodata, screen3_animals_namelist_caption, screen3_animals_namelist, screen2_status_message, screen3_status)\n",
        "\n",
        "# Callback function to populate animal names with demo data\n",
        "def on_click_screen3_use_demodata(e):\n",
        "  screen3_animals_namelist.value=DEMO_ANIMALS_NAMES\n",
        "  screen3_status.description='Check Input'\n",
        "  screen3_status.button_style='' # 'success', 'info', 'warning', 'danger' or ''\n",
        "  screen3_status.icon='' # (FontAwesome names without the `fa-` prefix)\n",
        "\n",
        "# Callback function to check animal names input status\n",
        "def on_click_screen3_status(e):\n",
        "  if len(screen3_animals_namelist.value.split(';'))>=MIN_COUNT_ANIMALS:\n",
        "    screen3_status.description='Animal names listed successfully. Run next Cell now.'\n",
        "    screen3_status.button_style='success' # 'success', 'info', 'warning', 'danger' or ''\n",
        "    screen3_status.icon='check' # (FontAwesome names without the `fa-` prefix)\n",
        "  else:\n",
        "    screen3_status.description='Not enough animal names listed! Add more.'\n",
        "    screen3_status.button_style='danger' # 'success', 'info', 'warning', 'danger' or ''\n",
        "    screen3_status.icon='times' # (FontAwesome names without the `fa-` prefix)\n",
        "\n",
        "# Attach callback functions to buttons\n",
        "screen3_use_demodata.on_click(on_click_screen3_use_demodata)\n",
        "screen3_status.on_click(on_click_screen3_status)"
      ],
      "metadata": {
        "colab": {
          "base_uri": "https://localhost:8080/",
          "height": 349,
          "referenced_widgets": [
            "52c37a35c9714c40b49274922ac95603",
            "823a69c9b999461aa57deaf4540ccd31",
            "e1c559a7884248cea880d407dd06d8bf",
            "7b9f378bdb0342d583e8ebd86641e3e1",
            "6a60a9bce620409f9674e0d1030c3156",
            "a2b8c6ab194047a39df9d1e2a10fec3b",
            "2859a263d1964254a24087617a9a54c2",
            "aa62ebd446804e1796f4a4b3e8ed88f4",
            "6f56e7d1179844e6b3c78d1e363b654c",
            "f12979c8ed894bfd9707ba1eb62b1656",
            "87da112506684a819ac1de1b4a739acd",
            "c4679d6416084cc0a1aa13775b5304b7",
            "1fa43a6c8c5d4558bb7929922be8c12a",
            "991dc695bc4d48639799afa23c0c3166",
            "5ba073be68054351802a9f48bdead2a6",
            "09336a37b43b4d40be2637b551ebcf05",
            "b26b38ecf8b64a1190e5aec5eea5ee95"
          ]
        },
        "id": "Tp0dkkPXgX2Q",
        "outputId": "13347a44-8397-42de-9f09-2631993e4856"
      },
      "execution_count": null,
      "outputs": [
        {
          "output_type": "display_data",
          "data": {
            "text/plain": [
              "Button(description='Use demo data', icon='clone', style=ButtonStyle(), tooltip='Use demo data')"
            ],
            "application/vnd.jupyter.widget-view+json": {
              "version_major": 2,
              "version_minor": 0,
              "model_id": "52c37a35c9714c40b49274922ac95603"
            }
          },
          "metadata": {
            "application/vnd.jupyter.widget-view+json": {
              "colab": {
                "custom_widget_manager": {
                  "url": "https://ssl.gstatic.com/colaboratory-static/widgets/colab-cdn-widget-manager/b3e629b1971e1542/manager.min.js"
                }
              }
            }
          }
        },
        {
          "output_type": "display_data",
          "data": {
            "text/plain": [
              "Label(value='The names of the animals of the chosen ecosystem (separated by semikolon):')"
            ],
            "application/vnd.jupyter.widget-view+json": {
              "version_major": 2,
              "version_minor": 0,
              "model_id": "7b9f378bdb0342d583e8ebd86641e3e1"
            }
          },
          "metadata": {
            "application/vnd.jupyter.widget-view+json": {
              "colab": {
                "custom_widget_manager": {
                  "url": "https://ssl.gstatic.com/colaboratory-static/widgets/colab-cdn-widget-manager/b3e629b1971e1542/manager.min.js"
                }
              }
            }
          }
        },
        {
          "output_type": "display_data",
          "data": {
            "text/plain": [
              "Textarea(value='', layout=Layout(height='80px', width='500px'), placeholder='List the foodsource names separat…"
            ],
            "application/vnd.jupyter.widget-view+json": {
              "version_major": 2,
              "version_minor": 0,
              "model_id": "2859a263d1964254a24087617a9a54c2"
            }
          },
          "metadata": {
            "application/vnd.jupyter.widget-view+json": {
              "colab": {
                "custom_widget_manager": {
                  "url": "https://ssl.gstatic.com/colaboratory-static/widgets/colab-cdn-widget-manager/b3e629b1971e1542/manager.min.js"
                }
              }
            }
          }
        },
        {
          "output_type": "display_data",
          "data": {
            "text/plain": [
              "HTML(value='Only pick animals with these environmental conditions:<br><ul><li>min_depth: <b>31</b></li><li>max…"
            ],
            "application/vnd.jupyter.widget-view+json": {
              "version_major": 2,
              "version_minor": 0,
              "model_id": "f12979c8ed894bfd9707ba1eb62b1656"
            }
          },
          "metadata": {
            "application/vnd.jupyter.widget-view+json": {
              "colab": {
                "custom_widget_manager": {
                  "url": "https://ssl.gstatic.com/colaboratory-static/widgets/colab-cdn-widget-manager/b3e629b1971e1542/manager.min.js"
                }
              }
            }
          }
        },
        {
          "output_type": "display_data",
          "data": {
            "text/plain": [
              "Button(description='Check Input', layout=Layout(width='500px'), style=ButtonStyle())"
            ],
            "application/vnd.jupyter.widget-view+json": {
              "version_major": 2,
              "version_minor": 0,
              "model_id": "1fa43a6c8c5d4558bb7929922be8c12a"
            }
          },
          "metadata": {
            "application/vnd.jupyter.widget-view+json": {
              "colab": {
                "custom_widget_manager": {
                  "url": "https://ssl.gstatic.com/colaboratory-static/widgets/colab-cdn-widget-manager/b3e629b1971e1542/manager.min.js"
                }
              }
            }
          }
        }
      ]
    },
    {
      "cell_type": "code",
      "source": [
        "# ANIMAL PARAMETERS INPUT FOR INTERACTIVE ELEMENTS\n",
        "\n",
        "# Split the entered animal names by semicolon\n",
        "animal_names = screen3_animals_namelist.value.split(';')\n",
        "\n",
        "# Get names of selected food sources for the best ecosystem\n",
        "selected_foodsource_names = screen2_foodsource_input.data[\"food_source\"][best_foodsource_keys].tolist()\n",
        "\n",
        "# Combine animal and food source names to get all species names\n",
        "all_species_names = animal_names + selected_foodsource_names\n",
        "\n",
        "# Create an empty DataFrame to capture animal parameters\n",
        "animals_empty = pd.DataFrame({\n",
        "    \"food_source\":animal_names,\n",
        "    \"cal_provided\":[0]*len(animal_names),\n",
        "    \"cal_needed\":[0]*len(animal_names)}\n",
        "    )\n",
        "\n",
        "# Add columns for all species names with initial values as 0\n",
        "animals_empty[all_species_names]=[0]*len(all_species_names)\n",
        "\n",
        "# Define rendering style for the species table\n",
        "species_table_design = TextRenderer(\n",
        "    horizontal_alignment=VegaExpr(\n",
        "        \"cell.metadata.column > 2  ? 'center' : 'left'\"\n",
        "    ),\n",
        "    background_color=VegaExpr(\n",
        "        \"cell.metadata.column >12 ? '\"+CELL_BACKGROUND_COLORS[7]+\"' : '#ffffff'\"\n",
        "    ))\n",
        "\n",
        "# GENERATE INTERACTIVE FORM 4 OF 4\n",
        "\n",
        "screen4_animalparameters = DataGrid(\n",
        "    animals_empty,\n",
        "    selection_mode=\"cell\",\n",
        "    grid_style={\"void_color\": \"#383838\"},\n",
        "    layout={\"height\": \"350px\"},\n",
        "    default_renderer=species_table_design,\n",
        "    base_row_size=32,\n",
        "    base_column_size=100,\n",
        "    editable=True\n",
        "    )\n",
        "\n",
        "screen4_use_demodata = widgets.Button(\n",
        "    description='Use demo data',\n",
        "    disabled=False,\n",
        "    button_style='', # 'success', 'info', 'warning', 'danger' or ''\n",
        "    tooltip='Use demo data',\n",
        "    icon='clone', # (FontAwesome names without the `fa-` prefix)\n",
        ")\n",
        "\n",
        "screen4_status = widgets.Button(\n",
        "    description='Run next cell once you have entered all the parameters.',\n",
        "    disabled=False,\n",
        "    button_style='', # 'success', 'info', 'warning', 'danger' or ''\n",
        "    tooltip='',\n",
        "    icon='', # (FontAwesome names without the `fa-` prefix)\n",
        "    layout=widgets.Layout(width='500px')\n",
        ")\n",
        "\n",
        "screen4_animalparameters_caption = widgets.Label(\n",
        "    value='Fill in the missing parameters (calories and which species serve as foodsources) of these species:'\n",
        "    )\n",
        "\n",
        "screen4_status_message = widgets.HTML(\n",
        "    value=' '\n",
        "    )\n",
        "\n",
        "# Display interactive elements on the screen\n",
        "display(screen4_use_demodata,screen4_animalparameters_caption,screen4_animalparameters, screen4_status, screen4_status_message)\n",
        "\n",
        "# Callback function to populate animal parameters with demo data\n",
        "def on_click_screen4_use_demodata(e):\n",
        "  screen4_animalparameters.data = DEMO_ANIMAL_DATA\n",
        "  screen4_status_message.value = ''\n",
        "  screen4_status.description = 'Run next cell once you have entered all the parameters.'\n",
        "  screen4_status.button_style=''\n",
        "\n",
        "# Attach callback function to the demo data button\n",
        "screen4_use_demodata.on_click(on_click_screen4_use_demodata)"
      ],
      "metadata": {
        "colab": {
          "base_uri": "https://localhost:8080/",
          "height": 993,
          "referenced_widgets": [
            "a3a2c397107b48ee81fdfb83de1996e5",
            "380e0091fb6b44e9b2d543f8ca47a076",
            "16f8d0448d014164988de0a80777d35f",
            "c1bd1a9d35f74defb3a4a44fc5e0bdeb",
            "09d454fd3c754ed7ab291a665f1f39b4",
            "0aed0d99e51c44f1887cdb1d472a10b6",
            "5385b0909e984350aa0318f16730bd44",
            "6ec45e28545b4743a2d8c7587c5c32d7",
            "54aa0fd53c134d2ca9ec1d91ba5fe3ca",
            "01af9f5f2f8541d3a9f9ae56e24cb85b",
            "e20ad9de0d9f406abbed1e716603c85a",
            "1e90b8e0226a4c59b5ec6a778145f041",
            "64337e2027eb4dd58d621eb5f885b5af",
            "a81009b8eeb04f47a9e8da547c1cf424",
            "b057c9991d614fa8aa416e71c5a16385",
            "427c6d45c01a47929c7689d04f2f096e",
            "5a8c31bcc6b044a2acbf3162dc84a951",
            "1f8e966d85b14caead6a84c57d4767ff",
            "4906c7dc54b24e83a03eb04ce8f0c2e1",
            "22f4592626bd41a3a3a83697222bbdc9",
            "3eb0d8407f5f4515b7e2afee1ad8b9e6",
            "1c184c7cce5a46bc92ba01d902c3b26f",
            "0b1151b1d0e54f9b97aa63c00276e63f"
          ]
        },
        "id": "VoPLeImBgdLc",
        "outputId": "a82993b4-99e6-4761-da9f-75396a0f4293"
      },
      "execution_count": null,
      "outputs": [
        {
          "output_type": "display_data",
          "data": {
            "text/plain": [
              "Button(description='Use demo data', icon='clone', style=ButtonStyle(), tooltip='Use demo data')"
            ],
            "application/vnd.jupyter.widget-view+json": {
              "version_major": 2,
              "version_minor": 0,
              "model_id": "a3a2c397107b48ee81fdfb83de1996e5"
            }
          },
          "metadata": {
            "application/vnd.jupyter.widget-view+json": {
              "colab": {
                "custom_widget_manager": {
                  "url": "https://ssl.gstatic.com/colaboratory-static/widgets/colab-cdn-widget-manager/b3e629b1971e1542/manager.min.js"
                }
              }
            }
          }
        },
        {
          "output_type": "display_data",
          "data": {
            "text/plain": [
              "Label(value='Fill in the missing parameters (calories and which species serve as foodsources) of these species…"
            ],
            "application/vnd.jupyter.widget-view+json": {
              "version_major": 2,
              "version_minor": 0,
              "model_id": "c1bd1a9d35f74defb3a4a44fc5e0bdeb"
            }
          },
          "metadata": {
            "application/vnd.jupyter.widget-view+json": {
              "colab": {
                "custom_widget_manager": {
                  "url": "https://ssl.gstatic.com/colaboratory-static/widgets/colab-cdn-widget-manager/b3e629b1971e1542/manager.min.js"
                }
              }
            }
          }
        },
        {
          "output_type": "display_data",
          "data": {
            "text/plain": [
              "DataGrid(auto_fit_params={'area': 'all', 'padding': 30, 'numCols': None}, base_column_size=100, base_row_size=…"
            ],
            "application/vnd.jupyter.widget-view+json": {
              "version_major": 2,
              "version_minor": 0,
              "model_id": "5385b0909e984350aa0318f16730bd44"
            }
          },
          "metadata": {
            "application/vnd.jupyter.widget-view+json": {
              "colab": {
                "custom_widget_manager": {
                  "url": "https://ssl.gstatic.com/colaboratory-static/widgets/colab-cdn-widget-manager/b3e629b1971e1542/manager.min.js"
                }
              }
            }
          }
        },
        {
          "output_type": "display_data",
          "data": {
            "text/plain": [
              "Button(description='Run next cell once you have entered all the parameters.', layout=Layout(width='500px'), st…"
            ],
            "application/vnd.jupyter.widget-view+json": {
              "version_major": 2,
              "version_minor": 0,
              "model_id": "64337e2027eb4dd58d621eb5f885b5af"
            }
          },
          "metadata": {
            "application/vnd.jupyter.widget-view+json": {
              "colab": {
                "custom_widget_manager": {
                  "url": "https://ssl.gstatic.com/colaboratory-static/widgets/colab-cdn-widget-manager/b3e629b1971e1542/manager.min.js"
                }
              }
            }
          }
        },
        {
          "output_type": "display_data",
          "data": {
            "text/plain": [
              "HTML(value=' ')"
            ],
            "application/vnd.jupyter.widget-view+json": {
              "version_major": 2,
              "version_minor": 0,
              "model_id": "427c6d45c01a47929c7689d04f2f096e"
            }
          },
          "metadata": {
            "application/vnd.jupyter.widget-view+json": {
              "colab": {
                "custom_widget_manager": {
                  "url": "https://ssl.gstatic.com/colaboratory-static/widgets/colab-cdn-widget-manager/b3e629b1971e1542/manager.min.js"
                }
              }
            }
          }
        }
      ]
    },
    {
      "cell_type": "code",
      "source": [
        "# FOODCHAIN IDENTIFICATION\n",
        "\n",
        "# Sort animal parameters data based on 'cal_provided' column in descending order\n",
        "sorted_animalparameters = screen4_animalparameters.data.sort_values(by=['cal_provided'], ascending=False)\n",
        "\n",
        "# Select relevant columns for creating the adjacency matrix\n",
        "adjacency_matrix_columns = sorted_animalparameters.columns.difference([\"food_source\", \"cal_provided\", \"cal_needed\"])\n",
        "\n",
        "# Create a dictionary to store all species information\n",
        "all_species = {} # Dictionary containing species details and their relationships for nested processing\n",
        "for _, row in sorted_animalparameters.iterrows():\n",
        "    foodsource = row[\"food_source\"]\n",
        "    own_foodsources = [adj_col for adj_col in adjacency_matrix_columns if row[adj_col] == 1]\n",
        "    all_species[foodsource] = {\"cal_provided\":row[\"cal_provided\"], \"cal_needed\":row[\"cal_needed\"],\"food_source\": own_foodsources}\n",
        "\n",
        "# Add selected food sources from the previous step to the species dictionary\n",
        "for k in best_foodsource_keys:\n",
        "  all_species[screen2_foodsource_input.data[\"food_source\"][k]] = {\"cal_provided\":screen2_foodsource_input.data[\"cal_provided\"][k], \"cal_needed\":[],\"food_source\": []}\n",
        "\n",
        "# Function to evaluate the sustainability of species selection\n",
        "def evaluate_species_selection(selection):\n",
        "  \"\"\"\n",
        "  Evaluates the sustainability of a species selection for constructing a foodchain.\n",
        "\n",
        "  This function simulates the interaction of selected species and their food sources to\n",
        "  determine if the chosen combination can form a sustainable foodchain.\n",
        "\n",
        "  Parameters:\n",
        "      selection (list of bool): A list of boolean values indicating which species are selected.\n",
        "\n",
        "  Returns:\n",
        "      bool: True if the selection forms a sustainable foodchain, False otherwise.\n",
        "  \"\"\"\n",
        "\n",
        "  # Initialize return variable\n",
        "  is_sustainable = True\n",
        "\n",
        "  # Create a deep copy of the species dictionary for simulation\n",
        "  sim_species = copy.deepcopy(all_species)\n",
        "\n",
        "  # Add plants to the selection\n",
        "  selection = selection +[1,1,1] # Adding the 3 true values in the end, cause the plants are always picked\n",
        "\n",
        "  # Create a list of keys to remove from selection\n",
        "  keys = [list(sim_species)[index] for index, value in enumerate(selection) if value == False]\n",
        "\n",
        "  # Remove species not part of the selection\n",
        "  [sim_species.pop(key) for key in keys]\n",
        "\n",
        "  # Iterate over selected species\n",
        "  for name, species_iterator in sim_species.items():\n",
        "\n",
        "    # List the individual food sources\n",
        "    food = {key: sim_species[key] for key in species_iterator['food_source'] if key in sim_species}\n",
        "\n",
        "    #if food is required\n",
        "    if len(food)>0:\n",
        "\n",
        "      # Calculate available calories from food sources\n",
        "      calories_left = sum([v['cal_provided'] for v in food.values()])\n",
        "\n",
        "      if calories_left > 0:\n",
        "\n",
        "        # Check if there is a tie in highest calorie value among food sources\n",
        "        cals = [v['cal_provided'] for v in food.values()]\n",
        "        cmax = max(cals)\n",
        "        result = [key for key, value in food.items() if value['cal_provided'] == cmax]\n",
        "        count = len(result)\n",
        "\n",
        "        # Handle the case of a tie\n",
        "        if count >1:\n",
        "          if species_iterator['cal_needed']<(cmax/count):\n",
        "            # Subtract cal_needed divided by food_sources from cal_provided\n",
        "            for r in result:\n",
        "              sim_species[r]['cal_provided']-=(species_iterator['cal_needed']/count)\n",
        "          else:\n",
        "            is_sustainable = False\n",
        "            break\n",
        "        # Handle the case of not a tie (standard)\n",
        "        else:\n",
        "          if species_iterator['cal_needed']<cmax:\n",
        "            # Subtract cal_needed from cal_provided\n",
        "            sim_species[result[0]]['cal_provided']-=species_iterator['cal_needed']\n",
        "          else:\n",
        "            is_sustainable = False\n",
        "            break\n",
        "      else:\n",
        "        is_sustainable = False\n",
        "        break\n",
        "    else:\n",
        "      if len(species_iterator['food_source'])>0:\n",
        "        is_sustainable = False\n",
        "        break\n",
        "  return is_sustainable\n",
        "\n",
        "#test = evaluate_selection(test_selection_success)\n",
        "#print(test)\n",
        "\n",
        "# Generate a list of boolean combinations for species selection\n",
        "boolean_selection_combinations = []\n",
        "for combo in ALL_POSSIBLE_COMBINATIONS:\n",
        "    boolean_combo = [False] * MIN_COUNT_ANIMALS\n",
        "    for index in combo:\n",
        "        boolean_combo[index] = True\n",
        "    boolean_selection_combinations.append(boolean_combo)\n",
        "\n",
        "# Sort boolean_combinations based on the sum of \"cal_needed\"\n",
        "sorted_selection_combinations = sorted(boolean_selection_combinations, key=lambda combo: sum(sorted_animalparameters.loc[combo, \"cal_needed\"]))\n",
        "\n",
        "# Iterate through sorted combinations and evaluate the foodchain\n",
        "foodchain_identification_success = False #start condition of identification process\n",
        "for combo in sorted_selection_combinations:\n",
        "  if evaluate_species_selection(combo):\n",
        "    selected_animals = sorted_animalparameters.loc[combo, \"food_source\"]\n",
        "    selected_plants = screen2_foodsource_input.data[\"food_source\"][best_foodsource_keys]\n",
        "\n",
        "    # Reformat status button\n",
        "    screen4_status.description='Foodchain identified successfully'\n",
        "    screen4_status.button_style='success' # 'success', 'info', 'warning', 'danger' or ''\n",
        "    screen4_status.icon='check' # (FontAwesome names without the `fa-` prefix)\n",
        "\n",
        "    # Define renderer highlighting the chosen animals\n",
        "    vega_string = \" | \".join([\"cell.metadata.data['food_source'] == '\"+name+\"'\" for name in selected_animals.values])\n",
        "    highlight_selected_animals = TextRenderer(\n",
        "        horizontal_alignment=VegaExpr(\"cell.metadata.column > 2  ? 'center' : 'left'\"),\n",
        "        background_color=VegaExpr(\n",
        "            vega_string+\" ? '\"+CELL_BACKGROUND_COLORS[0]+\"' : '#ffffff'\" #filter a line according to a value\n",
        "        )\n",
        "    )\n",
        "\n",
        "    #Register renderer with the datagrid\n",
        "    screen4_animalparameters.default_renderer=highlight_selected_animals\n",
        "\n",
        "    animals_li=\" \".join([\"<li>\"+name+\"</li>\" for name in selected_animals.values])\n",
        "    plants_li=\" \".join([\"<li>\"+name+\"</li>\" for name in selected_plants.values])\n",
        "    statustext_foodchain = (\n",
        "        f\"Congratulations, you have successfully built a foodchain!<br>Just select these animals:<ol>{animals_li}</ol>\"\n",
        "        f\"And select these food sources:<ol>{plants_li}</ol>\"\n",
        "        f\"And select a location within these environmental parameters:<ol>\"\n",
        "        f\"<li>min_{altitude_suffix}: <b>{environmental_parameters_best_foodsources[0]}</b></li>\"\n",
        "        f\"<li>max_{altitude_suffix}: <b>{environmental_parameters_best_foodsources[1]}</b></li>\"\n",
        "        f\"<li>min_temp: <b>{environmental_parameters_best_foodsources[2]}</b></li>\"\n",
        "        f\"<li>max_temp: <b>{environmental_parameters_best_foodsources[3]}</b></li></ol>\"\n",
        "    )\n",
        "\n",
        "    # Set caption to status text\n",
        "    screen4_status_message.value = statustext_foodchain\n",
        "    screen4_status_message.layout= widgets.Layout(top='0px', right='0px', width='500px')\n",
        "\n",
        "    #Set success variable\n",
        "    foodchain_identification_success = True\n",
        "\n",
        "    # Exit loop if using only the first successful solution\n",
        "    if USE_FIRST_SOLUTION_ONLY:\n",
        "      break;\n",
        "\n",
        "# Handle the case when foodchain identification fails\n",
        "if not foodchain_identification_success:\n",
        "    #reformat status button\n",
        "    screen4_status.description='ERROR: Foodchain building failed'\n",
        "    screen4_status.button_style='danger' # 'success', 'info', 'warning', 'danger' or ''\n",
        "    screen4_status.icon='' # (FontAwesome names without the `fa-` prefix)\n",
        "\n",
        "    statustext_foodchain = (\n",
        "        f\"It was not possible to identify a viable foodchain under the set conditions.\"\n",
        "    )\n",
        "\n",
        "    #set caption to status text\n",
        "    screen4_status_message.value = statustext_foodchain"
      ],
      "metadata": {
        "id": "cQlcEGDkgiSg"
      },
      "execution_count": null,
      "outputs": []
    }
  ]
}